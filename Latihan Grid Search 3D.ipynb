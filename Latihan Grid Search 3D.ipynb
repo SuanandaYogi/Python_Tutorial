{
 "cells": [
  {
   "cell_type": "markdown",
   "id": "79a10e10",
   "metadata": {},
   "source": [
    "# Soal Latihan Grid Search 3D\n",
    "\n",
    "Kembangkan materi grid search 2D untuk data yang lebih real (3D)\n",
    "\n",
    "|Stasiun | X (km) | Y (km) | Waktu tiba (T<sub>P</sub>)| Waktu tiba (T<sub>S</sub>)|\n",
    "|-|-|-|-|-|\n",
    "|Eureka, CA|174.64|1187.57|01:35:34.5|01:36:26.7|\n",
    "|Elko, NV|841.96|1004.26|01:35:29.8|01:36:18.2|\n",
    "|Las Vegas, NV|770.19|463.77|01:35:46.3|01:36:48.4|\n",
    "\n",
    "asumsikan bahwa semua stasiun berada pada z = 0 km dan kecepatan gelombang gempa (P) 7.82 km/s"
   ]
  },
  {
   "cell_type": "code",
   "execution_count": null,
   "id": "ba09657a",
   "metadata": {},
   "outputs": [],
   "source": [
    "#import modul yang dibutuhkan\n",
    "\n",
    "import "
   ]
  },
  {
   "cell_type": "markdown",
   "id": "d3559da2",
   "metadata": {},
   "source": [
    "## Fungsi Pemodelan Kedepan untuk menghitung waktu tiba 3D\n",
    "\n"
   ]
  },
  {
   "cell_type": "code",
   "execution_count": null,
   "id": "b49ac19b",
   "metadata": {},
   "outputs": [],
   "source": [
    "#Fungsi waktu tiba 3D\n",
    "\n",
    "def fw_waktu_2d(t_0,coor_s,coor_i):\n",
    "    "
   ]
  },
  {
   "cell_type": "markdown",
   "id": "92872a10",
   "metadata": {},
   "source": [
    "## Fungsi menghitung RMS\n",
    "\n"
   ]
  },
  {
   "cell_type": "code",
   "execution_count": null,
   "id": "760c94b0",
   "metadata": {},
   "outputs": [],
   "source": [
    "def Fungsi_RMS(d_cal,d_obs):\n",
    "    jumlah = 0\n",
    "    N = d_obs.size\n",
    "    for it in range(N):\n",
    "        kuadratdd = (d_cal[it]-d_obs[it])**2 #melakukan perhitungan d_cal dan d_obs ke-i\n",
    "        jumlah = jumlah + kuadratdd\n",
    "\n",
    "    rata2 = jumlah/N\n",
    "    RMS = np.sqrt(rata2)\n",
    "    return RMS"
   ]
  },
  {
   "cell_type": "markdown",
   "id": "22fa605f",
   "metadata": {},
   "source": [
    "## Algoritma menentukan waktu awal gempa bumi(T<sub>0</sub>)\n",
    "\n"
   ]
  },
  {
   "cell_type": "code",
   "execution_count": null,
   "id": "2f7e67ec",
   "metadata": {},
   "outputs": [],
   "source": [
    "# waktu tiba gelombang P dalam detik\n",
    "tp_obs = \n",
    "\n",
    "# waktu tiba gelombang S dalam detik\n",
    "ts_obs = \n",
    "\n",
    "# ts-tp\n",
    "tsp = ts_obs-tp_obs"
   ]
  },
  {
   "cell_type": "code",
   "execution_count": null,
   "id": "70ea5890",
   "metadata": {},
   "outputs": [],
   "source": [
    "# inisiasi matriks untuk inversi\n",
    "\n",
    "G =\n",
    "d = \n",
    "\n",
    "# proses inversi\n",
    "\n",
    "\n",
    "# menghitung waktu origin (T_0)\n",
    "t_0 = "
   ]
  },
  {
   "cell_type": "markdown",
   "id": "944ef8a0",
   "metadata": {},
   "source": [
    "## Algoritma menentukan lokasi gempa bumi (Hiposenter) x,y,z\n",
    "\n"
   ]
  },
  {
   "cell_type": "code",
   "execution_count": null,
   "id": "b5e138ca",
   "metadata": {},
   "outputs": [],
   "source": [
    "# Plot posisi stasiun untuk memperkirakan rentang pencarian\n",
    "\n",
    "t_obs = tp_obs\n",
    "\n",
    "posisi_stasiun =\n",
    "\n",
    "plt.figure()\n",
    "for it in range(N_stasiun):\n",
    "    plt.plot(posisi_stasiun[it,0],posisi_stasiun[it,1],'rv')\n",
    "plt.show()"
   ]
  },
  {
   "cell_type": "code",
   "execution_count": null,
   "id": "bec9ec4d",
   "metadata": {},
   "outputs": [],
   "source": [
    "#menentukan rentang pencarian\n",
    "\n",
    "jumlah_sampel_x = \n",
    "jumlah_sampel_y = \n",
    "jumlah_sampel_z = \n",
    "\n",
    "x_range = np.linspace(,,num=jumlah_sampel_x)\n",
    "y_range = np.linspace(,,num=jumlah_sampel_y)\n",
    "z_range = np.linspace(,,num=jumlah_sampel_z)\n",
    "\n",
    "#kita siapkan array RMS untuk menyimpan proses uji coba\n",
    "list_RMS = np.zeros((jumlah_sampel_y,jumlah_sampel_x,jumlah_sampel_z))"
   ]
  },
  {
   "cell_type": "code",
   "execution_count": null,
   "id": "38a8b109",
   "metadata": {},
   "outputs": [],
   "source": [
    "#lakukan iterasi pencarian hiposenter\n",
    "for it_x in range(jumlah_sampel):\n",
    "    for it_y in range(jumlah_sampel):\n",
    "        for it_z in range(jumlah_sampel):\n",
    "            \n"
   ]
  },
  {
   "cell_type": "code",
   "execution_count": null,
   "id": "77dfedea",
   "metadata": {},
   "outputs": [],
   "source": [
    "#menentukan hiposenter dengan RMS terkecil\n",
    "Best_RMS = list_RMS[0,0,0]\n",
    "Best_source = np.array([x_range[0],y_range[0],z_range[0]])\n",
    "\n",
    "#iterasi\n",
    "\n",
    "\n",
    "print('RMS terkecil',Best_RMS,'Pada posisi',Best_source)"
   ]
  },
  {
   "cell_type": "code",
   "execution_count": null,
   "id": "29fdf0c0",
   "metadata": {},
   "outputs": [],
   "source": []
  }
 ],
 "metadata": {
  "kernelspec": {
   "display_name": "Python 3",
   "language": "python",
   "name": "python3"
  },
  "language_info": {
   "codemirror_mode": {
    "name": "ipython",
    "version": 3
   },
   "file_extension": ".py",
   "mimetype": "text/x-python",
   "name": "python",
   "nbconvert_exporter": "python",
   "pygments_lexer": "ipython3",
   "version": "3.9.5"
  }
 },
 "nbformat": 4,
 "nbformat_minor": 5
}

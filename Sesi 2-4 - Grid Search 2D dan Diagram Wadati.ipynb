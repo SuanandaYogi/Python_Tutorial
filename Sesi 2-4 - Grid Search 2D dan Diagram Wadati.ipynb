{
 "cells": [
  {
   "cell_type": "markdown",
   "id": "8665cfcb",
   "metadata": {},
   "source": [
    "<a href=\"https://colab.research.google.com/github/SuanandaYogi/Python_Tutorial/blob/master/Sesi%202-4%20-%20Grid%20Search%202D%20dan%20Diagram%20Wadati.ipynb\" target=\"_parent\"><img src=\"https://colab.research.google.com/assets/colab-badge.svg\" alt=\"Open In Colab\"/></a>"
   ]
  },
  {
   "cell_type": "markdown",
   "id": "a3dbef5c",
   "metadata": {},
   "source": [
    "## Pemodelan Kedepan 2D\n",
    "\n",
    "$$t_i = t_{0} + \\frac{{\\sqrt {{{\\left( {{x_i} - x_s} \\right)}^2} + {{\\left( {{y_i} - y_s} \\right)}^2} } }}{v }$$\n",
    "\n",
    "<img src=\"images/Wadati.png\" alt=\"Wadati\" style=\"width: 400px;\"/>"
   ]
  },
  {
   "cell_type": "code",
   "execution_count": 2,
   "id": "4482edef",
   "metadata": {},
   "outputs": [],
   "source": [
    "#memanggil modul numpy dan matplotlib.pyplot\n",
    "\n",
    "import numpy as np\n",
    "import matplotlib.pyplot as plt"
   ]
  },
  {
   "cell_type": "code",
   "execution_count": 197,
   "id": "aea3d8c7",
   "metadata": {},
   "outputs": [],
   "source": [
    "#membuat fungsi pemodelan kedepan waktu tiba gelombang gempa bumi pada kasus 1D\n",
    "\n",
    "def fw_waktu_2d(t_0,coor_s,coor_i):\n",
    "    #xs adalah posisi sumber (km)\n",
    "    #xi adalah posisi stasiun ke-i (km)\n",
    "    xi = coor_i[0]\n",
    "    yi = coor_i[1]\n",
    "    xs = coor_s[0]\n",
    "    ys = coor_s[1]\n",
    "    vp = 7 #kecepatan gelombang gempa (P) 7km/s\n",
    "    t = t_0+np.sqrt((xi-xs)**2+(yi-ys)**2)/vp #menghitung waktu tiba gelombang gempa pada stasiun ke-i\n",
    "    return t #output nilai t dijadikan hasil perhitungan fungsi"
   ]
  },
  {
   "cell_type": "code",
   "execution_count": 169,
   "id": "84f161bf",
   "metadata": {},
   "outputs": [
    {
     "data": {
      "text/plain": [
       "311.4142135623731"
      ]
     },
     "execution_count": 169,
     "metadata": {},
     "output_type": "execute_result"
    }
   ],
   "source": [
    "#kita uji fungsi tersebut\n",
    "fw_waktu_2d(310,[0,0],[7,7])"
   ]
  },
  {
   "cell_type": "code",
   "execution_count": 170,
   "id": "d74750ca",
   "metadata": {},
   "outputs": [],
   "source": [
    "def Fungsi_RMS(d_cal,d_obs):\n",
    "    jumlah = 0\n",
    "    N = d_obs.size\n",
    "    for it in range(N):\n",
    "        kuadratdd = (d_cal[it]-d_obs[it])**2 #melakukan perhitungan d_cal dan d_obs ke-i\n",
    "        jumlah = jumlah + kuadratdd\n",
    "\n",
    "    rata2 = jumlah/N\n",
    "    RMS = np.sqrt(rata2)\n",
    "    return RMS"
   ]
  },
  {
   "cell_type": "markdown",
   "id": "1c20bf55",
   "metadata": {},
   "source": [
    "## Trial and Error Forward modeling\n",
    "\n",
    "Dengan posisi stasiun yang sama, kita mencatat sebuah kejadian gempa bumi dengan data waktu tiba berikut \n",
    "\n",
    "|Stasiun | X (km) | Y (km) | Waktu tiba (T<sub>P</sub>)| Waktu tiba (T<sub>S</sub>)|\n",
    "|-|-|-|-|-|\n",
    "|1|35|9|00:07:02.09|00:07:8.01|\n",
    "|2|-44|10|00:07:00.70|00:07:5.60|\n",
    "|3|-23|-39|00:06:59.37|00:07:3.30|\n",
    "\n",
    "Coba tentukan posisi sumber gempa bumi dengan cara di atas."
   ]
  },
  {
   "cell_type": "code",
   "execution_count": 172,
   "id": "e9c3c440",
   "metadata": {},
   "outputs": [],
   "source": [
    "#mencari t_0 dengan Diagram Wadati"
   ]
  },
  {
   "cell_type": "code",
   "execution_count": 173,
   "id": "b1899e31",
   "metadata": {},
   "outputs": [],
   "source": [
    "tp_obs = np.array([7*60+2.09 , 7*60+0.70, 6*60+59.37])\n",
    "ts_obs = np.array([7*60+8.01, 7*60+5.60, 7*60+3.30])"
   ]
  },
  {
   "cell_type": "code",
   "execution_count": 174,
   "id": "0f70c6f3",
   "metadata": {
    "scrolled": false
   },
   "outputs": [
    {
     "data": {
      "image/png": "[encoded data removed]",
      "text/plain": [
       "<Figure size 570x380 with 1 Axes>"
      ]
     },
     "metadata": {
      "needs_background": "light"
     },
     "output_type": "display_data"
    }
   ],
   "source": [
    "tsp = ts_obs-tp_obs\n",
    "\n",
    "plt.figure(dpi=95)\n",
    "plt.plot(tp_obs,tsp,'*')\n",
    "plt.ylim(0,7)\n",
    "plt.xlim(412,425)\n",
    "plt.xlabel(r'$T_p$ (s)')\n",
    "plt.ylabel(r'$T_s-T_p$ (s)')\n",
    "plt.grid()\n",
    "plt.show()"
   ]
  },
  {
   "cell_type": "code",
   "execution_count": 175,
   "id": "a2ce0198",
   "metadata": {},
   "outputs": [],
   "source": [
    "#cari persamaan garis ax+b = y"
   ]
  },
  {
   "cell_type": "code",
   "execution_count": 179,
   "id": "f4d9c1c3",
   "metadata": {},
   "outputs": [
    {
     "name": "stdout",
     "output_type": "stream",
     "text": [
      "matriks m\n",
      "a = 0.7316341423652375 dan b = -302.8964497091947\n",
      "waktu terjadi gempa bumi 413.9998835073315 s\n"
     ]
    }
   ],
   "source": [
    "G = np.array([[422.09,1],[420.7,1],[419.37,1]])\n",
    "d = np.reshape(tsp,(-1,1)) \n",
    "\n",
    "#proses inversi\n",
    "\n",
    "#operasi untuk menyederhanakan perhitungan kita pisah-pisah perhitungan dan digabung di akhir\n",
    "GT = G.T #proses transposisi matriks G\n",
    "GTG = np.dot(GT,G) \n",
    "GTd = np.dot(GT,d)\n",
    "\n",
    "#perhitungan final\n",
    "\n",
    "m = np.dot(np.linalg.inv(GTG),GTd)\n",
    "\n",
    "print('matriks m')\n",
    "print('a =',m[0,0],'dan b =',m[1,0])\n",
    "\n",
    "#t_0 saat y = 0\n",
    "\n",
    "t_0 = (0 - m[1,0])/m[0,0] \n",
    "print('waktu terjadi gempa bumi',t_0,'s')\n"
   ]
  },
  {
   "cell_type": "code",
   "execution_count": 201,
   "id": "fedad215",
   "metadata": {},
   "outputs": [
    {
     "data": {
      "image/png": "[encoded data removed]",
      "text/plain": [
       "<Figure size 432x288 with 1 Axes>"
      ]
     },
     "metadata": {
      "needs_background": "light"
     },
     "output_type": "display_data"
    }
   ],
   "source": [
    "# Plot posisi stasiun untuk memperkirakan rentang pencarian\n",
    "\n",
    "t_obs = tp_obs\n",
    "\n",
    "posisi_stasiun = np.array([[35,9],[-44,10],[23,-39]])\n",
    "\n",
    "plt.figure()\n",
    "for it in range(N_stasiun):\n",
    "    plt.plot(posisi_stasiun[it,0],posisi_stasiun[it,1],'rv')\n",
    "plt.show()"
   ]
  },
  {
   "cell_type": "code",
   "execution_count": 203,
   "id": "deef3ced",
   "metadata": {},
   "outputs": [],
   "source": [
    "#print('dimensi matriks posisi_stasiun',posisi_stasiun.shape)\n",
    "N_stasiun = posisi_stasiun.shape[0]\n",
    "\n",
    "#menentukan rentang pencarian\n",
    "jumlah_sampel = 100\n",
    "x_range = np.linspace(-60,50,num=jumlah_sampel)\n",
    "y_range = np.linspace(-50,20,num=jumlah_sampel)\n",
    "\n",
    "#kita siapkan array RMS untuk menyimpan proses uji coba\n",
    "list_RMS = np.zeros((jumlah_sampel,jumlah_sampel))"
   ]
  },
  {
   "cell_type": "code",
   "execution_count": 191,
   "id": "de63b57b",
   "metadata": {},
   "outputs": [],
   "source": [
    "for it_x in range(jumlah_sampel):\n",
    "    for it_y in range(jumlah_sampel):\n",
    "        posisi_sumber = np.array([x_range[it_x],y_range[it_y]]) #posisi sumber gempa bumi\n",
    "\n",
    "        t_cal = np.zeros(N_stasiun) #menyiapkan array kosong untuk menyimpan data simulasi \n",
    "        for it in range(N_stasiun):\n",
    "            t_cal[it] = fw_waktu_2d(t_0,posisi_sumber,posisi_stasiun[it])\n",
    "\n",
    "        #menghitung RMS dengan fungsi sebelumnya\n",
    "        list_RMS[it_y,it_x] = Fungsi_RMS(t_cal,t_obs) "
   ]
  },
  {
   "cell_type": "code",
   "execution_count": 192,
   "id": "79e5bcff",
   "metadata": {},
   "outputs": [
    {
     "name": "stdout",
     "output_type": "stream",
     "text": [
      "RMS terkecil 0.03211698782564742 Pada posisi [-11.11111111 -23.83838384]\n"
     ]
    }
   ],
   "source": [
    "Best_RMS = list_RMS[0,0]\n",
    "Best_source = np.array([x_range[0],y_range[0]])\n",
    "\n",
    "for it_x in range(jumlah_sampel):\n",
    "    for it_y in range(jumlah_sampel):\n",
    "        if list_RMS[it_y,it_x] <  Best_RMS:\n",
    "            Best_RMS = list_RMS[it_y,it_x]\n",
    "            Best_source =  np.array([x_range[it_x],y_range[it_y]])\n",
    "\n",
    "print('RMS terkecil',Best_RMS,'Pada posisi',Best_source)"
   ]
  },
  {
   "cell_type": "code",
   "execution_count": 193,
   "id": "2af86f9f",
   "metadata": {},
   "outputs": [
    {
     "data": {
      "image/png": "[encoded data removed]",
      "text/plain": [
       "<Figure size 600x400 with 2 Axes>"
      ]
     },
     "metadata": {
      "needs_background": "light"
     },
     "output_type": "display_data"
    }
   ],
   "source": [
    "coor_xx,coor_yy = np.meshgrid(x_range,y_range)\n",
    "\n",
    "plt.figure(dpi=100)\n",
    "plt.contourf(coor_xx,coor_yy,list_RMS)\n",
    "for it in range(N_stasiun):\n",
    "    plt.plot(posisi_stasiun[it,0],posisi_stasiun[it,1],'rv',ms=10)\n",
    "plt.plot(Best_source[0],Best_source[1],'r*',ms=10)\n",
    "plt.colorbar()\n",
    "plt.show()\n"
   ]
  },
  {
   "cell_type": "code",
   "execution_count": 195,
   "id": "b23c956d",
   "metadata": {},
   "outputs": [
    {
     "name": "stdout",
     "output_type": "stream",
     "text": [
      "RMS terkecil 0.002299837637964083 Pada posisi [-11.31313131 -23.63636364]\n"
     ]
    },
    {
     "data": {
      "image/png": "[encoded data removed]",
      "text/plain": [
       "<Figure size 600x400 with 2 Axes>"
      ]
     },
     "metadata": {
      "needs_background": "light"
     },
     "output_type": "display_data"
    }
   ],
   "source": [
    "#kita definisikan posisi sumber dan stasiun\n",
    "\n",
    "t_obs = tp_obs\n",
    "\n",
    "posisi_stasiun = np.array([[35,9],[-44,10],[23,-39]])\n",
    "\n",
    "#print('dimensi matriks posisi_stasiun',posisi_stasiun.shape)\n",
    "N_stasiun = posisi_stasiun.shape[0]\n",
    "        \n",
    "jumlah_sampel = 100\n",
    "x_range = np.linspace(-20,0,num=jumlah_sampel)\n",
    "y_range = np.linspace(-35,-10,num=jumlah_sampel)\n",
    "\n",
    "#kita siapkan array RMS untuk menyimpan proses uji coba\n",
    "list_RMS = np.zeros((jumlah_sampel,jumlah_sampel))\n",
    "for it_x in range(jumlah_sampel):\n",
    "    for it_y in range(jumlah_sampel):\n",
    "        posisi_sumber = np.array([x_range[it_x],y_range[it_y]]) #posisi sumber gempa bumi\n",
    "\n",
    "        t_cal = np.zeros(N_stasiun) #menyiapkan array kosong untuk menyimpan data simulasi \n",
    "        for it in range(N_stasiun):\n",
    "            t_cal[it] = fw_waktu_2d(t_0,posisi_sumber,posisi_stasiun[it])\n",
    "\n",
    "        #menghitung RMS dengan fungsi sebelumnya\n",
    "        list_RMS[it_y,it_x] = Fungsi_RMS(t_cal,t_obs)\n",
    "Best_RMS = list_RMS[0,0]\n",
    "Best_source = np.array([x_range[0],y_range[0]])\n",
    "\n",
    "for it_x in range(jumlah_sampel):\n",
    "    for it_y in range(jumlah_sampel):\n",
    "        if list_RMS[it_y,it_x] <  Best_RMS:\n",
    "            Best_RMS = list_RMS[it_y,it_x]\n",
    "            Best_source =  np.array([x_range[it_x],y_range[it_y]])\n",
    "\n",
    "print('RMS terkecil',Best_RMS,'Pada posisi',Best_source)\n",
    "coor_xx,coor_yy = np.meshgrid(x_range,y_range)\n",
    "\n",
    "plt.figure(dpi=100)\n",
    "plt.contourf(coor_xx,coor_yy,list_RMS)\n",
    "for it in range(N_stasiun):\n",
    "    plt.plot(posisi_stasiun[it,0],posisi_stasiun[it,1],'rv',ms=10)\n",
    "plt.plot(Best_source[0],Best_source[1],'r*',ms=10)\n",
    "plt.colorbar()\n",
    "plt.show()\n"
   ]
  },
  {
   "cell_type": "code",
   "execution_count": null,
   "id": "09611d92",
   "metadata": {},
   "outputs": [],
   "source": []
  }
 ],
 "metadata": {
  "kernelspec": {
   "display_name": "Python 3",
   "language": "python",
   "name": "python3"
  },
  "language_info": {
   "codemirror_mode": {
    "name": "ipython",
    "version": 3
   },
   "file_extension": ".py",
   "mimetype": "text/x-python",
   "name": "python",
   "nbconvert_exporter": "python",
   "pygments_lexer": "ipython3",
   "version": "3.9.5"
  }
 },
 "nbformat": 4,
 "nbformat_minor": 5
}

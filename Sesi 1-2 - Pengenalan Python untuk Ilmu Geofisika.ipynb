{
 "cells": [
  {
   "cell_type": "markdown",
   "metadata": {},
   "source": [
    "<a href=\"https://colab.research.google.com/github/SuanandaYogi/Python_Tutorial/blob/master/Sesi%201-2%20-%20Pengenalan%20Python%20untuk%20Ilmu%20Geofisika.ipynb\" target=\"_parent\"><img src=\"https://colab.research.google.com/assets/colab-badge.svg\" alt=\"Open In Colab\"/></a>"
   ]
  },
  {
   "cell_type": "markdown",
   "metadata": {
    "slideshow": {
     "slide_type": "subslide"
    }
   },
   "source": [
    "# Mencari Solusi Persamaan Linear Sederhana\n",
    "\n",
    "Misalkan sebuah kasus persamaan linear 1 variabel sederhana dengan bentuk $y=mx+c$ memiliki dua data yaitu **(1,-0.5)** dan **(3,2.5)**.\n",
    "\n",
    "<img src=\"https://raw.githubusercontent.com/SuanandaYogi/Python_Tutorial/master/images/fig1.png\" alt=\"fig1\" style=\"width: 500px;\"/>\n",
    "\n",
    "Kita diminta untuk mencari persamaan yang bisa menghubungkan kedua titik tersebut. Dengan menggunakan persamaan linear kita dapat merumuskan kedua titik sebagai berikut : \n",
    "\n",
    "$$-0.5 = 1a+b$$\n",
    "$$2.5 = 3a+b$$\n",
    "\n",
    "dengan persamaan ini kita dapat melakukan subtitusi sehingga didapat nilai $m=1.5$ dan $c=-2$. Cara lain yang kita gunakan adalah menggunakan perhitungan matriks. Kita bisa definisikan dua persamaan di atas menjadi bentuk matriks berikut:\n",
    "\n",
    "$$\\begin{bmatrix} 1 & 1 \\\\ 3 & 1 \\end{bmatrix} \\begin{bmatrix} a \\\\ b \\end{bmatrix} = \\begin{bmatrix} -0.5 \\\\ 2.5 \\end{bmatrix}$$\n",
    "\n",
    "Jika kita definisikan matriks $\\mathbf{G} = \\begin{bmatrix} 1 & 1 \\\\ 3 & 1 \\end{bmatrix}$ sebagai matriks Kernel, $\\mathbf{m}=\\begin{bmatrix} a \\\\ b \\end{bmatrix}$ sebagai model yang dicari, dan $\\mathbf{d}=\\begin{bmatrix} -0.5 \\\\ 2.5 \\end{bmatrix}$ sebagai data yang kita ketahui. \n",
    "\n",
    "Kita dapat menuliskan persamaan di atas menjadi\n",
    "\n",
    "$$\\mathbf{G}\\mathbf{m}=\\mathbf{d}$$.\n",
    "\n",
    "Untuk mencari nilai $\\mathbf{m}$ kita dapat lakukan operasi inversi sebagai berikut\n",
    "\n",
    "$$\\mathbf{m}=\\mathbf{G}^{-1}\\mathbf{d}$$\n",
    "\n",
    "dengan $\\mathbf{G}^{-1}$ adalah _inverse_ matriks dari $\\mathbf{G}$\n",
    "\n",
    "Kita coba terapkan perhitungan matrisk ini dengan **Python**"
   ]
  },
  {
   "cell_type": "markdown",
   "metadata": {},
   "source": [
    "## Memanggil modul Numpy\n",
    "Sebelum memulai perhitungan numerik, kita panggil modul perhitungan numerik yang ada di Python, yaitu Numpy. Modul Numpy dipanggil dan selanjutnya disebut sebagai **np**"
   ]
  },
  {
   "cell_type": "code",
   "execution_count": null,
   "metadata": {},
   "outputs": [],
   "source": [
    "import numpy as np "
   ]
  },
  {
   "cell_type": "markdown",
   "metadata": {},
   "source": [
    "kita definisikan terlebih dahulu matriks $\\mathbf{G}$ dan matriks $\\mathbf{d}$ dengan memanggil fungsi `array`. Di awal kita berikan keterangan dengan menambahkan komentar menggunakan `#`."
   ]
  },
  {
   "cell_type": "code",
   "execution_count": null,
   "metadata": {},
   "outputs": [],
   "source": [
    "#mendefinisikan matriks G dan d untuk proses inversi\n",
    "\n",
    "G = np.array([[1, 1],[3, 1]])\n",
    "d = np.array([[-0.5],[2.5]])"
   ]
  },
  {
   "cell_type": "markdown",
   "metadata": {},
   "source": [
    "Untuk memastikan hasil kita benar, kita dapat tampilkan hasilnya dengan mengetik fungsi `print`."
   ]
  },
  {
   "cell_type": "code",
   "execution_count": null,
   "metadata": {},
   "outputs": [],
   "source": [
    "print(G)\n",
    "print(d)"
   ]
  },
  {
   "cell_type": "markdown",
   "metadata": {},
   "source": [
    "Kita lanjutkan dengan melakukan proses inversi dengan menggunakan fungsi `inv` dari `linalg` dan perkalian _dot_ matriks"
   ]
  },
  {
   "cell_type": "code",
   "execution_count": null,
   "metadata": {},
   "outputs": [],
   "source": [
    "#menghitung matriks m\n",
    "\n",
    "m = np.dot(np.linalg.inv(G),d)\n",
    "\n",
    "#memastikan dimensi dari m\n",
    "\n",
    "print('dimensi dari m', m.shape)\n",
    "\n",
    "#print hasil m\n",
    "\n",
    "print('hasil perhitungan a =', m[0,0], 'b =', m[1,0])"
   ]
  },
  {
   "cell_type": "markdown",
   "metadata": {},
   "source": [
    "Hasil tersebut adalah matriks $\\mathbf{m}$ yang mengandung $\\begin{bmatrix} a \\\\ b \\end{bmatrix} = \\begin{bmatrix} 1.5 \\\\ -2 \\end{bmatrix}$. Kita juga dapat menampilkan bentuk/dimensi dari matriks $\\mathbf{m}$ dengan menggunakan perintah `m.shape`. Dimensi dari matriks $\\mathbf{m}$ adalah (2,1) atau memiliki 2 baris dan 1 kolom, sesuai dengan perhitungan awal kita. Sementara itu, untuk memanggil nilai $a$ kita perlu memanggil komponen 0,0 (baris,kolom) dari $\\mathbf{m}$, sedangkan nilai $b$ kita perlu memanggil komponen 1,0 (baris,kolom) dari $\\mathbf{m}$."
   ]
  },
  {
   "cell_type": "markdown",
   "metadata": {},
   "source": [
    "## Menampilkan Kurva \n",
    "### Memanggil modul Matplotlib\n",
    "Untuk menampilkan kurva hasil perhitungan kita gunakan modul Matplotlib, khususnya bagian yang lebih spesifik yaitu **pyplot**. Hal ini dilakukan dengan cara mengimport pyplot dan kemudian menyebutnya sebagai **plt** agar lebih singkat."
   ]
  },
  {
   "cell_type": "code",
   "execution_count": null,
   "metadata": {},
   "outputs": [],
   "source": [
    "import matplotlib.pyplot as plt"
   ]
  },
  {
   "cell_type": "markdown",
   "metadata": {},
   "source": [
    "jika sebelumnya kita sudah membuat matriks, kita bisa membuat array 1 dimensi untuk menampilkan kurva sesuai dengan batas awal, batas akhir, dan jumlah data yang diinginkan menggunakan fungsi `linspace`."
   ]
  },
  {
   "cell_type": "code",
   "execution_count": null,
   "metadata": {},
   "outputs": [],
   "source": [
    "#membuat array x untuk plot kurva pada sumbu xy\n",
    "\n",
    "x = np.linspace(-10,10,num=50) #np.linspace(start,finish,number of samples)\n",
    "\n",
    "#menghitung y dengan menggunakan array x dan variabel dari matrikx m (a,b)\n",
    "\n",
    "y = m[0]*x+m[1]"
   ]
  },
  {
   "cell_type": "code",
   "execution_count": null,
   "metadata": {},
   "outputs": [],
   "source": [
    "print(x) #menampilkan variabel x\n",
    "print(y) #menampilkan variabl y\n",
    "print('dimensi array y', y.shape) #menampilkan dimensi dari y"
   ]
  },
  {
   "cell_type": "markdown",
   "metadata": {},
   "source": [
    "Selanjutnya kita plot array x dan array y dalam bentuk kurva dengan cara paling sederhana menggunakan perintah-perintah berikut"
   ]
  },
  {
   "cell_type": "code",
   "execution_count": null,
   "metadata": {},
   "outputs": [],
   "source": [
    "plt.figure() #membuat gambar yang siap diisi dengan kurva atau peta\n",
    "plt.plot(x,y) #plot array x dan y\n",
    "plt.show() #menampilkan gambar"
   ]
  },
  {
   "cell_type": "markdown",
   "metadata": {},
   "source": [
    "Misalkan anda ingin memastikan bahwa garis tersebut sudah sesuai dengan data yang kita miliki sebelumnya, yaitu **(1,-0.5)** dan **(3,2.5)**. Kita dapat menambahkan plot titik pada gambar di atas."
   ]
  },
  {
   "cell_type": "code",
   "execution_count": null,
   "metadata": {},
   "outputs": [],
   "source": [
    "plt.figure() #membuat gambar yang siap diisi dengan kurva atau peta\n",
    "plt.plot(x,y) #plot array x dan y\n",
    "\n",
    "#tambahan data\n",
    "#menambahkan titik data yang dimiliki secara manual. \n",
    "#[1,3] adalah komponen sumbu x dari data\n",
    "#[-0.5,2.5] adalah komponen sumbu y dari data\n",
    "#'o' adalah bentuk tanda (marker) yang digunakan contoh lain adalah ('.','s','^','*',dll)\n",
    "plt.plot([1,3],[-0.5,2.5],'o') \n",
    "\n",
    "plt.show() #menampilkan gambar"
   ]
  },
  {
   "cell_type": "markdown",
   "metadata": {},
   "source": [
    "Gambar di atas dapat kita perlengkap dengan menambahkan fitur-fitur seperti, label pada sumbu x dan y, grid, dan judul dengan tambahan perintah berikut."
   ]
  },
  {
   "cell_type": "code",
   "execution_count": null,
   "metadata": {
    "scrolled": true
   },
   "outputs": [],
   "source": [
    "plt.figure() #membuat gambar yang siap diisi dengan kurva atau peta\n",
    "plt.plot(x,y) #plot array x dan y\n",
    "\n",
    "#tambahan data\n",
    "#menambahkan titik data yang dimiliki secara manual. \n",
    "#[1,3] adalah komponen sumbu x dari data\n",
    "#[-0.5,2.5] adalah komponen sumbu y dari data\n",
    "#'o' adalah bentuk tanda (marker) yang digunakan contoh lain adalah ('.','s','^','*',dll)\n",
    "plt.plot([1,3],[-0.5,2.5],'o') \n",
    "\n",
    "#tambahan perintah\n",
    "plt.xlabel('sumbu-x') #menambah label pada sumbu x\n",
    "plt.ylabel('sumbu-y') #menambah label pada sumbu y\n",
    "plt.title('Kurva') #menambah judul pada gambar\n",
    "plt.xlim(-2,5) #memberi batasan rentang yang ditampilkan pada sumbu x\n",
    "plt.ylim(-4,5) #memberi batasan rentang yang ditampilkan pada sumbu y\n",
    "plt.grid() #menambah grid pada gambar\n",
    "\n",
    "#optional\n",
    "plt.axhline(linewidth=1.5, color='k') #menambahkan sumbu x pada y = 0\n",
    "plt.axvline(linewidth=1.5, color='k') #menambahkan sumbu y pada x = 0\n",
    "\n",
    "\n",
    "plt.show() #menampilkan gambar"
   ]
  },
  {
   "cell_type": "markdown",
   "metadata": {},
   "source": [
    "# Solusi persamaan linear untuk data yang lebih banyak\n",
    "\n",
    "Berikut ini adalah data yang kita miliki dari data temperatur dan kedalaman. Tentukan berapa gradien temperatur (_thermal gradient_) dari data lubang bor area _Carson Sinks, Nevada_ ini.\n",
    "\n",
    "|Kedalaman (m)|Temperatur(<sup>o</sup>C)|\n",
    "|---------|----------|\n",
    "|98.1|18.8|\n",
    "|195.7|25.8|\n",
    "|267.2|31.3|\n",
    "|355.6|39.2|\n",
    "|495.5|51.2|\n",
    "|624.2|62.3|\n",
    "|792.1|75.7|\n",
    "|953.2|87.9|\n",
    "|1115.1|99.3|\n",
    "|1300.2|110.2|\n",
    "\n",
    "Awali dengan mendefinisikan rumus umum, yaitu \n",
    "\n",
    "$$depth\\times a+b = Temperature$$\n",
    "\n",
    "setelah itu kita definisikan matriks yang digunakan untuk mendeskripsikan persamaan linear dari data dan rumus di atas, yaitu\n",
    "\n",
    "$$\\begin{bmatrix} depth_{1} & 1 \\\\ depth_{2} & 1 \\\\ . & 1 \\\\ . & 1 \\\\ depth_{N} & 1 \\end{bmatrix} \\begin{bmatrix} a \\\\ b \\end{bmatrix} = \\begin{bmatrix} Temperature_{1} \\\\ Temperature_{2} \\\\ . \\\\ . \\\\ Temperature_{N}\\end{bmatrix}$$\n",
    "\n",
    "dengan jumlah $N$ adalah 10.\n",
    "Atau dapat ditulis dengan $\\mathbf{G}\\mathbf{m}=\\mathbf{d}$. Sebelumnya cara menyelesaikan persamaan ini dapat dilakukan dengan melakukan perkalian inverse matriks $\\mathbf{G}$ dengan $\\mathbf{d}$, namun pada kasus ini matriks tidak berbentuk persegi atau dimensi baris dan kolom tidak sama. Untuk menyelesaikan permasalahan ini kita gunakan penyelesaian inversi dengan rumus\n",
    "\n",
    "$$\\mathbf{m}=(\\mathbf{G}^{T}\\mathbf{G})^{-1}\\mathbf{G}^{T}\\mathbf{d}$$\n",
    "\n",
    "dengan $\\mathbf{G}^{T}$ adalah transposisi dari matriks $\\mathbf{G}$"
   ]
  },
  {
   "cell_type": "markdown",
   "metadata": {},
   "source": [
    "## Perhitungan Numerik\n",
    "\n",
    "Setelah memahami apa yang harus kita lakukan, kita mulai masuk dalam perhitungan secara numerik dengan diawali dengan mendefinisikan data Temperatur dan kedalaman"
   ]
  },
  {
   "cell_type": "code",
   "execution_count": null,
   "metadata": {},
   "outputs": [],
   "source": [
    "#kita import modul perhitungan numerik (Numpy) dan ploting (Matplotlib.pyplot) secara bersamaan\n",
    "\n",
    "import numpy as np\n",
    "import matplotlib.pyplot as plt\n",
    "\n",
    "Temperature = np.array([18.83, 25.83, 31.31, 39.23, 51.22, 62.34, 75.67, 87.87, 99.32, 110.17]) #dalam Celcius\n",
    "depth = np.array([98.1, 195.7, 267.2, 355.6, 495.5, 624.2, 792.1, 953.2, 1115.1, 1300.2]) #dalam meter"
   ]
  },
  {
   "cell_type": "markdown",
   "metadata": {},
   "source": [
    "Sebelum kita hitung nilai gradien dari temperatur, kita plot data-data yang ada agar kita mendapat gambaran umum data yang dimiliki"
   ]
  },
  {
   "cell_type": "code",
   "execution_count": null,
   "metadata": {},
   "outputs": [],
   "source": [
    "plt.figure(dpi=100) #dpi besar memberbesar dan meningkatkan kualitas gambar (normal 95)\n",
    "plt.plot(depth,Temperature,'r*') #plot dengan tanda bintang\n",
    "\n",
    "#tambahan perintah\n",
    "plt.xlabel('Depth (m)') #menambah label pada sumbu x\n",
    "plt.ylabel('Temperature ($^{o}$C)') #menambah label pada sumbu y\n",
    "plt.title('Kurva Temperatur Terhadap Kedalaman') #menambah judul pada gambar\n",
    "plt.xlim(0,1400) #memberi batasan rentang yang ditampilkan pada sumbu x dari 0 m hingga 1400 m\n",
    "plt.ylim(0,) #memberi batasan rentang yang ditampilkan pada sumbu y dari 0 C hingga maksimum\n",
    "plt.grid() #menambah grid pada gambar\n",
    "\n",
    "plt.show()"
   ]
  },
  {
   "cell_type": "markdown",
   "metadata": {},
   "source": [
    "Selanjutnya membuat matriks $\\mathbf{G}$ dan matriks $\\mathbf{d}$"
   ]
  },
  {
   "cell_type": "code",
   "execution_count": null,
   "metadata": {},
   "outputs": [],
   "source": [
    "#mendefinisikan matriks G\n",
    "G = np.array([[98.1, 1], [195.7, 1], [267.2, 1], [355.6, 1], [495.5, 1], \\\n",
    "              [624.2, 1], [792.1, 1], [953.2, 1], [1115.1, 1], [1300.2, 1]]) #tanda \\ melanjutkan perintah ke baris berikutnay\n",
    "print('matriks G')\n",
    "print(G)\n",
    "\n",
    "#untuk menghemat waktu, data temperatur yang tidak memiliki dimensi (array) \n",
    "#bisa kita ubah menjadi matriks d dengan dimensi Nx1 menggunakan\n",
    "\n",
    "d = np.reshape(Temperature,(-1,1)) \n",
    "\n",
    "#tanda -1 di sini mengindikasikan jumlah \n",
    "#maksimal dari data depth tanpa perlu menuliskannya secara eksplisit sehingga didapat bentuk Nx1\n",
    "\n",
    "print('matriks d')\n",
    "print(d)\n",
    "\n",
    "#proses inversi\n",
    "\n",
    "#operasi untuk menyederhanakan perhitungan kita pisah-pisah perhitungan dan digabung di akhir\n",
    "GT = G.T #proses transposisi matriks G\n",
    "GTG = np.dot(GT,G) \n",
    "GTd = np.dot(GT,d)\n",
    "\n",
    "#perhitungan final\n",
    "\n",
    "m = np.dot(np.linalg.inv(GTG),GTd)\n",
    "\n",
    "print('matriks m')\n",
    "print(m)\n",
    "print('Gradien dari Temperatur adalah ', m[0,0], 'C/m atau', m[0,0]*1000, 'C/km')"
   ]
  },
  {
   "cell_type": "markdown",
   "metadata": {},
   "source": [
    "Dari hasil perhitungan kita tahu bahwa gradien dari temperatur di lokasi tersebut adalah sekitar 78.3 <sup>o</sup>C/km. Persamaan umum dari masalah ini adalah\n",
    "\n",
    "$$Temperature = 0.0783 \\times depth + 11.66$$\n",
    "\n",
    "Kita lanjutkan dengan menampilkan kurva hasil perhitungan dengan data yang dimiliki. Seperti sebelumnya kita definisikan rentang plot sebagai (`depth_plot`). Pada kasus ini kita definisikan dari 0 m hingga 1500 m dengan 100 data sampel.\n"
   ]
  },
  {
   "cell_type": "code",
   "execution_count": null,
   "metadata": {},
   "outputs": [],
   "source": [
    "depth_plot = np.linspace(0,1500,num=100)\n",
    "Temperature_plot = depth_plot*m[0,0]+m[1,0]\n",
    "\n",
    "#plot kurva dan data pengukuran\n",
    "plt.figure(dpi=150) #dpi besar memberbesar dan meningkatkan kualitas gambar (normal 95)\n",
    "plt.plot(depth_plot,Temperature_plot)\n",
    "plt.plot(depth,Temperature,'r*') #plot dengan tanda bintang\n",
    "\n",
    "#tambahan perintah\n",
    "plt.xlabel('Depth (m)') #menambah label pada sumbu x\n",
    "plt.ylabel('Temperature ($^{o}$C)') #menambah label pada sumbu y\n",
    "plt.title('Kurva Temperatur Terhadap Kedalaman') #menambah judul pada gambar\n",
    "plt.xlim(0,1400) #memberi batasan rentang yang ditampilkan pada sumbu x dari 0 m hingga 1400 m\n",
    "plt.ylim(0,) #memberi batasan rentang yang ditampilkan pada sumbu y dari 0 C hingga maksimum\n",
    "plt.grid() #menambah grid pada gambar\n",
    "\n",
    "plt.show()"
   ]
  },
  {
   "cell_type": "markdown",
   "metadata": {},
   "source": [
    "# Menghitung error (RMS)\n",
    "\n",
    "Kesalahan model yang dibuat dari inversi dibandingkan dengan data pengukuran (data Temperature) dapat kita lakukan dengan menggunakan persamaan _Root Mean Square_ (**RMS**) dengan rumus berikut ini.\n",
    "$$RMS=\\sqrt{\\frac{1}{N}\\sum \\limits_{i=1}^{N}\\Big(d^{cal}_{i}-d^{obs}_{i}\\Big)^{2}}$$\n",
    "\n",
    "dengan $d^{cal}_{i}$ adalah data Temperatur yang kita hitung dengan parameter hasil inversi, dan $d^{obs}_{i}$ adalah data Temperatur yang diukur dilapangan. Untuk menghitung $d^{cal}_{i}$ kita harus memasukkan nilai kedalaman yang diukur sehingga didapat nilai temperatur dari parameter hasil inversi. Sebagai contoh pada data kedalaman ke-1 98.1 m memiliki hasil pengukuran 18.8 <sup>o</sup>C\n",
    "$$d^{1}_{cal} = 0.0783 \\times depth_{1} + 11.66$$\n",
    "$$d^{1}_{cal} = 0.0783 \\times 98.1 + 11.66$$"
   ]
  },
  {
   "cell_type": "code",
   "execution_count": null,
   "metadata": {},
   "outputs": [],
   "source": [
    "d_cal = 0.0783*98.1+11.66\n",
    "print('hasil perhitungan', d_cal, 'C')"
   ]
  },
  {
   "cell_type": "markdown",
   "metadata": {},
   "source": [
    "Kita bandingkan hasil ini kemudian kuadratkan. Proses ini dilakukan untuk semua kedalaman hingga kedalaman ke-10. Untuk itu akan dijelaskan dua konsep pemrograman yaitu **fungsi** atau `function` dan **iterasi**. Pertama-tama kita bahas tentang `function`. Fungsi memiliki tujuan membuat penulisan program lebih rapi agar tidak melakukan sebuah rutinitas yang sama berulang-ulang. Fungsi secara matematis dapat diartikan sebuah proses yang merubah input menjadi output. Dan hal ini juga berlaku pada bahasa pemrograman. Berikut ini adalah fungsi yang telah kita dapatkan, yaitu fungsi yang menghitung _Temperature_ dengan input _depth_. \n",
    "\n",
    "$$Temperature(depth) = 0.0783 \\times depth + 11.66$$\n",
    "\n",
    "perhitungan seperti ini dapat dilakukan dengan : \n",
    "\n",
    "`d_cal = 0.0783*98.1+11.66` \n",
    "\n",
    "`d_cal = 0.0783*195.7+11.66` \n",
    "\n",
    "`d_cal = 0.0783*267.2+11.66` dan seterusnya\n",
    "\n",
    "Porses ini dapat dibuat lebih sederhana dan elegan dengan kita definisikan terlebih dahulu fungsi yang kita sebut sebagai `Fungsi_Temp` dengan perintah `def`"
   ]
  },
  {
   "cell_type": "code",
   "execution_count": null,
   "metadata": {},
   "outputs": [],
   "source": [
    "def Fungsi_Temp(depth_input): #harus diawali dengan def dan diakhir dengan : (titik dua)\n",
    "    #perhitungan di bawah baris awal harus diberi jarak 1 tab untuk \n",
    "    #mendefinisikan bahawa perhitungan atau perintah masih dibawah hirarki yang sama\n",
    "    d_cal = 0.0783*depth_input+11.66 \n",
    "    return d_cal"
   ]
  },
  {
   "cell_type": "markdown",
   "metadata": {},
   "source": [
    "Variabel depth_input dalam fungsi `Fungsi_Temp(depth)` adalah input yang diperlukan fungsi untuk menghitung `d_cal`. Baris ketiga `return d_cal` memrintahkan fungsi kita untuk mengeluarkan nilai `d_cal`. Kita coba dengan memraktikkan fungsi ini."
   ]
  },
  {
   "cell_type": "code",
   "execution_count": null,
   "metadata": {},
   "outputs": [],
   "source": [
    "#menjalankan Fungsi_Temp dengan input sesuai yang kita inginkan\n",
    "Fungsi_Temp(250)"
   ]
  },
  {
   "cell_type": "code",
   "execution_count": null,
   "metadata": {},
   "outputs": [],
   "source": [
    "#atau merekam hasil perhitungan fungsi ke dalam sebuah variabel\n",
    "hasil = Fungsi_Temp(1000) #menghitung fungsi Fungsi_Temp dengan input 1000m dan direkam sebagai variabel hasil\n",
    "print(hasil)"
   ]
  },
  {
   "cell_type": "markdown",
   "metadata": {},
   "source": [
    "Dari contoh di atas dapat terlihat bahwa proses perhitungan dapat ditulis dengan lebih singkat sehingga kode yang anda buat menjadi lebih rapi. Selanjutnya kita pelajari proses iterasi pada Python. Iterasi memiliki arti perulangan. Kita akan mencoba membuat sebuah iterasi dengan `for` secara sederhana. Sebagai berikut"
   ]
  },
  {
   "cell_type": "code",
   "execution_count": null,
   "metadata": {},
   "outputs": [],
   "source": [
    "for i in range(5): #mendefinisikan sebuah iterasi diawali dengan for, kemudian iterator, rentang iterasi, dan diakhiri : (titik dua)\n",
    "    #perhitungan di bawah baris awal harus diberi jarak 1 tab untuk \n",
    "    #mendefinisikan bahawa perhitungan atau perintah masih dibawah hirarki yang sama\n",
    "    print(i) #mencetak nilai i yang berperan sebagai iterator sesuai dengan banyaknya rentang iterasi (range(5))"
   ]
  },
  {
   "cell_type": "markdown",
   "metadata": {},
   "source": [
    "rentang iterasi pada contoh di atas haruslah integer/bilangan bulat. Fungsi `range(5)` bertujuan untuk membuat array berjumlah 5 angka diawali dengan angka 0 hingga angka 4 (5 angka). Mari kita coba menggunakan rentang iterasi sesuai dengan variabel `K`."
   ]
  },
  {
   "cell_type": "code",
   "execution_count": null,
   "metadata": {},
   "outputs": [],
   "source": [
    "K = 5 #mendefinisikan variabel K, anda bisa ganti sesuai keinginan anda\n",
    "for it in range(K): #mengganti iterator dengan nama lain (it)\n",
    "    print('it ke-', it) #mencetak iterator yang bernama it\n",
    "    hasil = it*2 #iterator dapat dimasukkan kedalam perhitungan sehingga hasil yang didapat mengikuti iterasi \n",
    "    print('hasil =', hasil) #mencetak hasil perhitungan tiap iterasi\n",
    "    print('---') #kita pisahkan hasil tiap iterasi agar lebih jelas"
   ]
  },
  {
   "cell_type": "markdown",
   "metadata": {},
   "source": [
    "Kita juga dapat memanggil isi dari matriks atau array menggunakan iterasi seperti contoh berikut"
   ]
  },
  {
   "cell_type": "code",
   "execution_count": null,
   "metadata": {},
   "outputs": [],
   "source": [
    "for it in range(3):\n",
    "    d_obs = Temperature[it] #apa yang terjadi?\n",
    "    print(d_obs)"
   ]
  },
  {
   "cell_type": "markdown",
   "metadata": {},
   "source": [
    "## Mendefinisikan d_obs dan d_cal"
   ]
  },
  {
   "cell_type": "code",
   "execution_count": null,
   "metadata": {},
   "outputs": [],
   "source": [
    "#menyiapkan ruang kosong untuk diisi oleh perhitungan Fungsi_Temp\n",
    "\n",
    "N = Temperature.size #menghitung banyaknya jumlah data Temperature dan menyimpan ke dalam variabel N\n",
    "d_cal = np.zeros(N) #menyiapkan array dengan nilai 0 sebanyak N elemen\n",
    "print('d_cal pertama yang masing kosong')\n",
    "print(d_cal)\n",
    "\n",
    "for it in range(N):\n",
    "    d_cal[it] = Fungsi_Temp(depth[it])\n",
    "    print('pengisian ke-',it)\n",
    "    print(d_cal)\n",
    "print('d_cal akhir ',d_cal) \n",
    "\n",
    "d_obs = np.copy(Temperature) #proses menyalin Temperature sebagai d_obs "
   ]
  },
  {
   "cell_type": "markdown",
   "metadata": {},
   "source": [
    "Menghitung rata-rata dari beberapa data. Kita coba menghitung rata-rata temperatur dari N data (jumlah data temperatur). Dapat terlihat bahwa variable `jumlah` yang didefinisikan di awal sebagai 0 nilainya ditambah tiap iterasi dengan nilai temperatur ke-i, sehingga semakin lama semakin besar. Kemudian nilai `jumlah` ini akan dibagi dengan banyaknya iterasi dan didapat rata-rata."
   ]
  },
  {
   "cell_type": "code",
   "execution_count": null,
   "metadata": {
    "scrolled": true
   },
   "outputs": [],
   "source": [
    "jumlah = 0\n",
    "N = Temperature.size #menghitung banyaknya jumlah data Temperature dan menyimpan ke dalam variabel N\n",
    "for it in range(N):\n",
    "    jumlah = jumlah + Temperature[it] #apa yang terjadi?\n",
    "    print('jumlah dari iterasi ke-', it, 'adalah', jumlah)\n",
    "rata2 = jumlah/K\n",
    "print('rata-rata temperatur adalah', rata2)"
   ]
  },
  {
   "cell_type": "markdown",
   "metadata": {},
   "source": [
    "## Pengembangan iterasi dan fungsi\n",
    "\n",
    "Kita gabungkan konsep iterasi dan fungsi yang telah kita pelajari dengan menghitung **RMS**. Agar lebih mudah mengetahui jika ada kesalahan dalam menghitung **RMS**, kita buat perhitungan yang terpisah-pisah. \n",
    "$$RMS=\\sqrt{\\frac{1}{N}\\sum \\limits_{i=1}^{N}\\Big(d^{cal}_{i}-d^{obs}_{i}\\Big)^{2}}$$\n",
    "Persamaan ini kita pecah menjadi perhitungan-perhitungan yang lebih sederhana menjadi\n",
    "$$\\textrm{kuadratdd}_{i} = \\Big(d^{cal}_{i}-d^{obs}_{i}\\Big)^{2}$$\n",
    "variable $\\textrm{kuadratdd}$ ini kita iterasi sebanyak $N$ kali, sehingga diapat variabel $\\textrm{jumlah}$. \n",
    "$$\\textrm{jumlah} = \\sum \\limits_{i=1}^{N} \\textrm{kuadratdd}_{i}$$\n",
    "Jumlah total ini kemudian dibagi dengan $N$, sehingga didapat nilai rata-rata \n",
    "$$\\textrm{rata2} =\\frac{\\textrm{jumlah}}{N}$$\n",
    "Nilai $\\textrm{rata2}$ ini selanjutnya diakarkan dan didapat nilai **RMS**.\n",
    "$$RMS = \\sqrt{rata2}$$"
   ]
  },
  {
   "cell_type": "code",
   "execution_count": null,
   "metadata": {},
   "outputs": [],
   "source": [
    "jumlah = 0\n",
    "N = d_obs.size\n",
    "for it in range(N):\n",
    "    kuadratdd = (d_cal[it]-d_obs[it])**2 #melakukan perhitungan d_cal dan d_obs ke-i\n",
    "    jumlah = jumlah + kuadratdd\n",
    "\n",
    "rata2 = jumlah/N\n",
    "RMS = np.sqrt(rata2)\n",
    "print('RMS =',RMS)"
   ]
  },
  {
   "cell_type": "markdown",
   "metadata": {},
   "source": [
    "### Membuat Fungsi RMS\n",
    "\n",
    "Setelah kita yakin bahwa metode menghitung RMS kita tepat, kita dapat menyederhanakan runtutan perhitungan ini dengan menyederhanakannya menjadi sebuah fungsi tersendiri. FUngsi RMS akan kita buat umum sehingga dapat digunakan untuk menghitung segala data (d\\_cal dan d\\_obs). Fungsi ini akan bernama `Fungsi_RMS` dengan input variable `d_cal` dan `d_obs`.\n",
    "\n",
    "Proses yang dilakukan sangat mudah, yaitu dengan menyalin langkah yang sudah benar di atas ke dalam fungsi `def Fungsi_RMS(d_cal,d_obs)`"
   ]
  },
  {
   "cell_type": "code",
   "execution_count": null,
   "metadata": {},
   "outputs": [],
   "source": [
    "def Fungsi_RMS(d_cal,d_obs):\n",
    "    jumlah = 0\n",
    "    N = Temperature.size\n",
    "    for it in range(N):\n",
    "        kuadratdd = (d_cal[it]-d_obs[it])**2 #melakukan perhitungan d_cal dan d_obs ke-i\n",
    "        jumlah = jumlah + kuadratdd\n",
    "\n",
    "    rata2 = jumlah/N\n",
    "    RMS = np.sqrt(rata2)\n",
    "    return RMS"
   ]
  },
  {
   "cell_type": "markdown",
   "metadata": {},
   "source": [
    "### Implementasi fungsi RMS"
   ]
  },
  {
   "cell_type": "code",
   "execution_count": null,
   "metadata": {},
   "outputs": [],
   "source": [
    "print('data terukur', d_obs)\n",
    "print('data terhitung', d_cal)\n",
    "print('RMS', Fungsi_RMS(d_cal,d_obs)) \n",
    "#cara yang sangat elegan dalam menghitung RMS, fungsi ini dapat digunakan untuk berbagai kasus lain"
   ]
  }
 ],
 "metadata": {
  "kernelspec": {
   "display_name": "Python 3",
   "language": "python",
   "name": "python3"
  },
  "language_info": {
   "codemirror_mode": {
    "name": "ipython",
    "version": 3
   },
   "file_extension": ".py",
   "mimetype": "text/x-python",
   "name": "python",
   "nbconvert_exporter": "python",
   "pygments_lexer": "ipython3",
   "version": "3.7.6"
  }
 },
 "nbformat": 4,
 "nbformat_minor": 5
}

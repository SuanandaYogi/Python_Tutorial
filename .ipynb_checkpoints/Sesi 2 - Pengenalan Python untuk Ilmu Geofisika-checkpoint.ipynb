{
 "cells": [
  {
   "cell_type": "markdown",
   "id": "b2fa5856",
   "metadata": {},
   "source": [
    "<a href=\"https://colab.research.google.com/github/SuanandaYogi/Python_Tutorial/blob/master/Sesi%202%20-%20Pengenalan%20Python%20untuk%20Ilmu%20Geofisika.ipynb\" target=\"_parent\"><img src=\"https://colab.research.google.com/assets/colab-badge.svg\" alt=\"Open In Colab\"/></a>"
   ]
  },
  {
   "cell_type": "markdown",
   "id": "9fa719bb",
   "metadata": {},
   "source": [
    "# Optimasi pendekatan Global\n",
    "\n",
    "Tujuan optimasi pendekatan global adalah menemukan model paling optimum sebagai solusi dari permasalahan.\n",
    "\n",
    "## Pemoldelan Kedepan (_Forward Modeling_)\n",
    "\n",
    "Pemodelan kedepan adalah proses menyimulasikan hasil dengan parameter-parameter model yang kita miliki, sedangkan inversi adalah mendapatkan parameter-parameter model dari data yang diukur di lapangan. Di dalam proses inversi pasti ada proses pemodelan kedepan. Penjelasan ini digambarkan dalam ilustrasi kasus gempa bumi berikut.\n",
    "\n",
    "\n",
    "\n",
    "Gambar\n",
    "\n",
    "\n",
    "Selanjutnya kita akan bahas pemodelan kedepan dari kejadian gempa bumi sederhana 1D.\n",
    "\n",
    "Dalam sebuah kejadian gempa bumi kita dituntut untuk mengetahui posisi lokasi sumber (x,y,z) dengan data rekaman seismometer. Pada data seismometer kita dapat menentukan waktu tiba gelombang gempa bumi. Dari data waktu tiba tersebut lah kita akan menentukan parameter lokasi sumber gempa bumi. Sebelum menentukan lokasi sumber gempa dari data, atau disebut sebagai proses inversi, kita buat simulasi bagaimana gelombang gempa merambat hingga tiba di stasiun dalam kasus 1D.\n",
    "Misalkan diketahui bahwa gelombang gempa menjalar dengan kecepatan gelombang sebesar 7 km/jam, kita dapat menentukan lamanya waktu tempu dari sumber ($x_{s}$) ke stasiun gempa 1, 2, 3, dll ($x_{1}$,$x_{2}$,$x_{3}$,dll) dengan \n",
    "$$t_{i} = \\sqrt{(x_{i}-x_{s})^{2}}$$\n",
    "\n",
    "misalkan sebuah gempa bumi terjadi pada titik x = -3, posisi stasiun 1 di x = 2, stasiun 2 di x = -6, stasiun 3 di x = 7, maka dapat kita simulasikan waktu tiba gelombang gempa dengan perhitungan numerik berikut ini"
   ]
  },
  {
   "cell_type": "code",
   "execution_count": 9,
   "id": "9b6dfff4",
   "metadata": {},
   "outputs": [],
   "source": [
    "#memanggil modul numpy\n",
    "\n",
    "import numpy as np\n",
    "\n",
    "#membuat fungsi pemodelan kedepan waktu tiba gelombang gempa bumi pada kasus 1D\n",
    "\n",
    "def fw_waktu_1d(xs,xi):\n",
    "    #xs adalah posisi sumber (km)\n",
    "    #xi adalah posisi stasiun ke-i (km)\n",
    "    \n",
    "    vp = 7 #kecepatan gelombang gempa (P) 7km/jam\n",
    "    t = np.sqrt((xs-xi)**2)/vp #menghitung waktu tiba gelombang gempa pada stasiun ke-i\n",
    "    return t #output nilai t dijadikan hasil perhitungan fungsi"
   ]
  },
  {
   "cell_type": "code",
   "execution_count": 10,
   "id": "a021b79e",
   "metadata": {},
   "outputs": [
    {
     "data": {
      "text/plain": [
       "1.0"
      ]
     },
     "execution_count": 10,
     "metadata": {},
     "output_type": "execute_result"
    }
   ],
   "source": [
    "#kita uji fungsi tersebut\n",
    "fw_waktu_1d(0,7)"
   ]
  },
  {
   "cell_type": "code",
   "execution_count": 13,
   "id": "5be86eb0",
   "metadata": {},
   "outputs": [
    {
     "name": "stdout",
     "output_type": "stream",
     "text": [
      "0.7142857142857143\n",
      "0.42857142857142855\n",
      "1.4285714285714286\n"
     ]
    }
   ],
   "source": [
    "#kita definisikan posisi sumber dan stasiun\n",
    "\n",
    "posisi_sumber = -3 #posisi sumber gempa bumi\n",
    "posisi_stasiun = np.array([2,-6,7]) #posisi stasiun ke-i dalam bentuk array\n",
    "N_stasiun = posisi_stasiun.size\n",
    "\n",
    "for it in range(N_stasiun):\n",
    "    print(fw_waktu_1d(posisi_sumber,posisi_stasiun[it]))\n"
   ]
  },
  {
   "cell_type": "markdown",
   "id": "57e3c5c1",
   "metadata": {},
   "source": [
    "## Trial and Error Forward modeling\n",
    "\n",
    "Dengan posisi stasiun yang sama, kita mencatat sebuah kejadian gempa bumi dengan data waktu tiba berikut \n",
    "\n",
    "|Stasiun | Posisi (km) | Waktu tiba (s)|\n",
    "|-|-|-|\n",
    "|1|2|1.36|\n",
    "|2|-6|0.21|\n",
    "|3|7|2.07|\n",
    "\n",
    "Coba tentukan posisi sumber gempa bumi dengan cara di atas."
   ]
  },
  {
   "cell_type": "code",
   "execution_count": 24,
   "id": "d9fb6bcb",
   "metadata": {},
   "outputs": [
    {
     "name": "stdout",
     "output_type": "stream",
     "text": [
      "0.2857142857142857\n",
      "0.8571428571428571\n",
      "1.0\n"
     ]
    }
   ],
   "source": [
    "#kita definisikan posisi sumber dan stasiun\n",
    "\n",
    "posisi_sumber =  0 #isikan posisi sumber uji coba\n",
    "\n",
    "posisi_stasiun = np.array([2,-6,7]) #posisi stasiun ke-i dalam bentuk array\n",
    "N_stasiun = posisi_stasiun.size\n",
    "\n",
    "for it in range(N_stasiun):\n",
    "    print(fw_waktu_1d(posisi_sumber,posisi_stasiun[it]))"
   ]
  },
  {
   "cell_type": "markdown",
   "id": "5fc44ca5",
   "metadata": {},
   "source": [
    "Karena sulit melihat kecocokan masing-masing data, kita gunakan RMS sebagai indikator data yang disimulasikan mirip dengan data yang direkam. Untuk itu kita buat sedemikian hingga proses ini dapat menggunakan fungsi RMS yang telah kita buat sebelumnya.\n",
    "\n",
    "Kita buat ulang `Fungsi_RMS` dari file sebelumnya"
   ]
  },
  {
   "cell_type": "code",
   "execution_count": 33,
   "id": "8adf93ca",
   "metadata": {},
   "outputs": [],
   "source": [
    "def Fungsi_RMS(d_cal,d_obs):\n",
    "    jumlah = 0\n",
    "    N = d_obs.size\n",
    "    for it in range(N):\n",
    "        kuadratdd = (d_cal[it]-d_obs[it])**2 #melakukan perhitungan d_cal dan d_obs ke-i\n",
    "        jumlah = jumlah + kuadratdd\n",
    "\n",
    "    rata2 = jumlah/N\n",
    "    RMS = np.sqrt(rata2)\n",
    "    return RMS"
   ]
  },
  {
   "cell_type": "markdown",
   "id": "761febe9",
   "metadata": {},
   "source": [
    "Anda dapat mencari posisi sumber yang memiliki nilai RMS terkecil."
   ]
  },
  {
   "cell_type": "code",
   "execution_count": 44,
   "id": "d9497e23",
   "metadata": {},
   "outputs": [
    {
     "data": {
      "text/plain": [
       "0.9518024433444487"
      ]
     },
     "execution_count": 44,
     "metadata": {},
     "output_type": "execute_result"
    }
   ],
   "source": [
    "# mendefiniskan t_obs\n",
    "\n",
    "t_obs = np.array([1.36, 0.21, 2.07])\n",
    "\n",
    "#kita definisikan posisi sumber dan stasiun\n",
    "\n",
    "posisi_sumber =  0 #isikan posisi sumber uji coba\n",
    "\n",
    "posisi_stasiun = np.array([2,-6,7]) #posisi stasiun ke-i dalam bentuk array\n",
    "N_stasiun = posisi_stasiun.size\n",
    "\n",
    "t_cal = np.zeros(N_stasiun) #menyiapkan array kosong untuk menyimpan data simulasi \n",
    "for it in range(N_stasiun):\n",
    "    t_cal[it] = fw_waktu_1d(posisi_sumber,posisi_stasiun[it])\n",
    "    \n",
    "#menghitung RMS dengan fungsi sebelumnya\n",
    "Fungsi_RMS(t_cal,t_obs)"
   ]
  },
  {
   "cell_type": "markdown",
   "id": "d09ceb36",
   "metadata": {},
   "source": [
    "Pada contoh di atas proses menghitung nilai waktu dari posisi sumber adalah proses _forward modeling_, di mana posisi sumber (x) adalah parameter model yang dijadikan input.\n",
    "\n",
    "Apa yang anda bisa pahami dari proses uji coba di atas?\n",
    "\n",
    "Selanjutnya kita coba proes uji coba yang dilakukan secara otomatis oleh komputer. Ide yang akan dilakukan adalah secara bertahap menggunakan posisi dari nilai ujung tertentu misal -10 sampai 10. Dari setiap posisi yang digunakan kita hitung nilai RMS sehingga kita dapat mengetahui di mana lokasi yang memiliki RMS terkecil. Berikut ini ilustrasi proses tersebut\n"
   ]
  },
  {
   "cell_type": "code",
   "execution_count": 65,
   "id": "007979cd",
   "metadata": {},
   "outputs": [
    {
     "name": "stdout",
     "output_type": "stream",
     "text": [
      "[-10.  -9.  -8.  -7.  -6.  -5.  -4.  -3.  -2.  -1.   0.   1.   2.   3.\n",
      "   4.   5.   6.   7.   8.   9.  10.]\n"
     ]
    }
   ],
   "source": [
    "t_obs = np.array([1.36, 0.21, 2.07])\n",
    "\n",
    "#kita definisikan posisi sumber dan stasiun\n",
    "jumlah_sampel = 21\n",
    "list_posisi_sumber = np.linspace(-10,10,num=jumlah_sampel)\n",
    "print(list_posisi_sumber)\n",
    "\n",
    "#kita siapkan array RMS untuk menyimpan proses uji coba\n",
    "list_RMS = np.zeros(jumlah_sampel)\n",
    "#kita letakkan pendefinisian ini diluar iterasi (loop) karena tidak berubah selama iterasi\n",
    "posisi_stasiun = np.array([2,-6,7]) #posisi stasiun ke-i dalam bentuk array\n",
    "N_stasiun = posisi_stasiun.size\n",
    "\n",
    "#karena ada 2 iterasi, maka kita bedakan masing-masing iterator\n",
    "for it1 in range(jumlah_sampel):\n",
    "    posisi_sumber =  list_posisi_sumber[it1] #isikan posisi sumber uji coba\n",
    "\n",
    "    t_cal = np.zeros(N_stasiun) #menyiapkan array kosong untuk menyimpan data simulasi \n",
    "    for it2 in range(N_stasiun):\n",
    "        t_cal[it2] = fw_waktu_1d(posisi_sumber,posisi_stasiun[it2])\n",
    "\n",
    "    #menghitung RMS dengan fungsi sebelumnya\n",
    "    list_RMS[it1] = Fungsi_RMS(t_cal,t_obs)\n"
   ]
  },
  {
   "cell_type": "markdown",
   "id": "82243163",
   "metadata": {},
   "source": [
    "Kita cari posisi di mana RMS terkecil dengan memperkenalkan sebuah konsep dalam pemrograman, kondisi (_conditional_)"
   ]
  },
  {
   "cell_type": "markdown",
   "id": "979817f5",
   "metadata": {},
   "source": [
    "## _Conditional_"
   ]
  },
  {
   "cell_type": "code",
   "execution_count": 100,
   "id": "8965e0e8",
   "metadata": {},
   "outputs": [],
   "source": [
    "a = 3\n",
    "if a<3:\n",
    "    print('benar')"
   ]
  },
  {
   "cell_type": "markdown",
   "id": "ceabf2e3",
   "metadata": {},
   "source": [
    "menambahkan `else` untuk kondisi yang salah"
   ]
  },
  {
   "cell_type": "code",
   "execution_count": 101,
   "id": "ed2403c0",
   "metadata": {},
   "outputs": [
    {
     "name": "stdout",
     "output_type": "stream",
     "text": [
      "salah\n"
     ]
    }
   ],
   "source": [
    "a = 3\n",
    "if a<3:\n",
    "    print('benar')\n",
    "else:\n",
    "    print('salah')"
   ]
  },
  {
   "cell_type": "code",
   "execution_count": 103,
   "id": "7455c231",
   "metadata": {},
   "outputs": [
    {
     "name": "stdout",
     "output_type": "stream",
     "text": [
      "-1 kurang dari 3\n",
      "2 kurang dari 3\n",
      "4 tidak kurang dari 3\n",
      "10 tidak kurang dari 3\n"
     ]
    }
   ],
   "source": [
    "#Misalkan kita memiliki array dengan nilai\n",
    "arr_a = np.array([-1,2,4,10])\n",
    "\n",
    "#kita ingin mengetahui apakah tiap elemen kurang dari 3 atau tidak. \n",
    "#kita lakukan dengan menggabungkan iterasi dengan kondisi\n",
    "jum_arr_a = arr_a.size\n",
    "for ite in range(jum_arr_a):\n",
    "    if arr_a[ite]<3:\n",
    "        print(arr_a[ite],'kurang dari 3')\n",
    "    else:\n",
    "        print(arr_a[ite],'tidak kurang dari 3')"
   ]
  },
  {
   "cell_type": "markdown",
   "id": "b4688b9a",
   "metadata": {},
   "source": [
    "Plot data RMS untuk tiap sampel dari posisi sumber stasiun beserta posisi stasiun"
   ]
  },
  {
   "cell_type": "code",
   "execution_count": 76,
   "id": "ed883a63",
   "metadata": {},
   "outputs": [],
   "source": [
    "import matplotlib.pyplot as plt"
   ]
  },
  {
   "cell_type": "code",
   "execution_count": 93,
   "id": "b03e91f9",
   "metadata": {},
   "outputs": [
    {
     "name": "stdout",
     "output_type": "stream",
     "text": [
      "nilai RMS terkecil 0.07053729654644857\n",
      "posisi dengan nilai RMS terkecil -7.0\n"
     ]
    },
    {
     "data": {
      "image/png": "[encoded data removed]",
      "text/plain": [
       "<Figure size 900x600 with 1 Axes>"
      ]
     },
     "metadata": {
      "needs_background": "light"
     },
     "output_type": "display_data"
    }
   ],
   "source": [
    "indeks_posisi_terkecil = np.where(list_RMS==min(list_RMS))[0][0]\n",
    "posisi_terkecil = list_posisi_sumber[indeks_posisi_terkecil]\n",
    "\n",
    "print('posisi dengan nilai RMS terkecil', posisi_terkecil)\n",
    "\n",
    "plt.figure(dpi=150)\n",
    "plt.plot(list_posisi_sumber,list_RMS)\n",
    "plt.plot(posisi_stasiun,[0,0,0],'v')\n",
    "plt.grid()\n",
    "plt.axhline(linewidth=1.5, color='k') #menambahkan sumbu x pada y = 0\n",
    "plt.axvline(linewidth=1.5, color='k') #menambahkan sumbu y pada x = 0\n",
    "plt.xlabel('Posisi x (km)')\n",
    "plt.ylabel('RMS')\n",
    "plt.show()\n",
    "\n"
   ]
  },
  {
   "cell_type": "code",
   "execution_count": null,
   "id": "3f827eaa",
   "metadata": {},
   "outputs": [],
   "source": []
  }
 ],
 "metadata": {
  "kernelspec": {
   "display_name": "Python 3",
   "language": "python",
   "name": "python3"
  },
  "language_info": {
   "codemirror_mode": {
    "name": "ipython",
    "version": 3
   },
   "file_extension": ".py",
   "mimetype": "text/x-python",
   "name": "python",
   "nbconvert_exporter": "python",
   "pygments_lexer": "ipython3",
   "version": "3.9.5"
  }
 },
 "nbformat": 4,
 "nbformat_minor": 5
}

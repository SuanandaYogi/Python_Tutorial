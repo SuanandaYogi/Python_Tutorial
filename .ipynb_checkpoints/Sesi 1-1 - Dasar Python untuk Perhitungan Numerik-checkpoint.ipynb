{
 "cells": [
  {
   "cell_type": "code",
   "execution_count": 3,
   "id": "26d56b3c",
   "metadata": {},
   "outputs": [
    {
     "name": "stdout",
     "output_type": "stream",
     "text": [
      "Hello World!\n"
     ]
    }
   ],
   "source": [
    "print('Hello World!')"
   ]
  },
  {
   "cell_type": "code",
   "execution_count": 4,
   "id": "2b0ccf23",
   "metadata": {},
   "outputs": [],
   "source": [
    "import numpy as np"
   ]
  },
  {
   "cell_type": "code",
   "execution_count": 9,
   "id": "150d4093",
   "metadata": {},
   "outputs": [],
   "source": [
    "a = 2.5\n",
    "b = -1.5"
   ]
  },
  {
   "cell_type": "code",
   "execution_count": 10,
   "id": "e21d414d",
   "metadata": {},
   "outputs": [
    {
     "name": "stdout",
     "output_type": "stream",
     "text": [
      "2.5\n",
      "-1.5\n",
      "a adalah 2.5 dan b adalah -1.5\n"
     ]
    }
   ],
   "source": [
    "print(a)\n",
    "print(b)\n",
    "print('a adalah',a,'dan b adalah',b)"
   ]
  },
  {
   "cell_type": "markdown",
   "id": "1c10330b",
   "metadata": {},
   "source": [
    "$$y=ax+b$$ dengan $$-5\\ge x \\ge 5$$\n",
    "kita buat sebuah kumpulan angka (1D) yang disebut sebagai _array_ dengan jumlah data 11 menggunakan fungsi `linspace`"
   ]
  },
  {
   "cell_type": "code",
   "execution_count": 36,
   "id": "012f7c5a",
   "metadata": {},
   "outputs": [
    {
     "name": "stdout",
     "output_type": "stream",
     "text": [
      "[-5. -4. -3. -2. -1.  0.  1.  2.  3.  4.  5.]\n"
     ]
    }
   ],
   "source": [
    "array_x = np.linspace(-5.,5.,num=11)\n",
    "print(array_x)"
   ]
  },
  {
   "cell_type": "markdown",
   "id": "a8337025",
   "metadata": {},
   "source": [
    "cara lain dengan fungsi `arange`"
   ]
  },
  {
   "cell_type": "code",
   "execution_count": 52,
   "id": "9b403dd1",
   "metadata": {},
   "outputs": [
    {
     "name": "stdout",
     "output_type": "stream",
     "text": [
      "[ 5.  4.  3.  2.  1.  0. -1. -2. -3. -4.]\n"
     ]
    }
   ],
   "source": [
    "array_x = np.arange(5.,-5.,-1.)\n",
    "print(array_x)"
   ]
  },
  {
   "cell_type": "markdown",
   "id": "067cc829",
   "metadata": {},
   "source": [
    "tidak sampai batas akhir, jika ingin hingga batas akhir kita modifikasi dengan"
   ]
  },
  {
   "cell_type": "code",
   "execution_count": 101,
   "id": "54b6395c",
   "metadata": {},
   "outputs": [
    {
     "name": "stdout",
     "output_type": "stream",
     "text": [
      "[-5. -4. -3. -2. -1.  0.  1.  2.  3.  4.  5.]\n"
     ]
    }
   ],
   "source": [
    "step = 1.\n",
    "array_x = np.arange(-5.,5.+0.1*step,step)\n",
    "print(array_x)"
   ]
  },
  {
   "cell_type": "markdown",
   "id": "8415da72",
   "metadata": {},
   "source": [
    "di **MATLAB** biasa ditulis dengan `awal:step:akhir` (`-5:0.1:5`).\n",
    "\n",
    "Kita buat sebuah **fungsi** yang memudahkan pemanggilan proses ini"
   ]
  },
  {
   "cell_type": "code",
   "execution_count": 102,
   "id": "9deeaf04",
   "metadata": {},
   "outputs": [],
   "source": [
    "def titikdua(awal,akhir,step):\n",
    "    #setara dengan metode pembuatan array di MATLAB (awal:step:akhir)\n",
    "    return np.arange(awal,akhir+0.1*step,step)"
   ]
  },
  {
   "cell_type": "code",
   "execution_count": 103,
   "id": "83dba3de",
   "metadata": {},
   "outputs": [
    {
     "name": "stdout",
     "output_type": "stream",
     "text": [
      "[-5.  -4.7 -4.4 -4.1 -3.8 -3.5 -3.2 -2.9 -2.6 -2.3 -2.  -1.7 -1.4 -1.1\n",
      " -0.8 -0.5 -0.2  0.1  0.4  0.7  1.   1.3  1.6  1.9  2.2  2.5  2.8  3.1\n",
      "  3.4  3.7  4.   4.3  4.6  4.9]\n"
     ]
    }
   ],
   "source": [
    "array_x = titikdua(-5,5,0.3)\n",
    "print(array_x)"
   ]
  },
  {
   "cell_type": "markdown",
   "id": "a3541629",
   "metadata": {},
   "source": [
    "Proses ini penting jika anda mencoba mengonversi sebuah program dari MATLAB ke Python sehingga menjamin program tersebut dapat berjalan dengan baik. \n",
    "\n",
    "Selanjutnya kita gunakan linspace agar lebih stabil dalam mendefinisikan batas atas."
   ]
  },
  {
   "cell_type": "code",
   "execution_count": 165,
   "id": "f4370338",
   "metadata": {},
   "outputs": [
    {
     "name": "stdout",
     "output_type": "stream",
     "text": [
      "21\n",
      "[-5.  -4.5 -4.  -3.5 -3.  -2.5 -2.  -1.5 -1.  -0.5  0.   0.5  1.   1.5\n",
      "  2.   2.5  3.   3.5  4.   4.5  5. ] 0.5\n"
     ]
    }
   ],
   "source": [
    "#tahapan paling stabil karena memastikan batas awal dan akhir tetap muncul dengan spasi kurang dari spasi yang diberikan\n",
    "step = 0.5\n",
    "awal = -5\n",
    "akhir = 5\n",
    "num = int(np.ceil((akhir-awal)/step)+1)\n",
    "print(num)\n",
    "array_x = np.linspace(awal,akhir,num = int(num))\n",
    "print(array_x,array_x[1]-array_x[0])"
   ]
  },
  {
   "cell_type": "code",
   "execution_count": 166,
   "id": "b3431321",
   "metadata": {},
   "outputs": [
    {
     "name": "stdout",
     "output_type": "stream",
     "text": [
      "[-14.   -12.75 -11.5  -10.25  -9.    -7.75  -6.5   -5.25  -4.    -2.75\n",
      "  -1.5   -0.25   1.     2.25   3.5    4.75   6.     7.25   8.5    9.75\n",
      "  11.  ]\n"
     ]
    },
    {
     "data": {
      "text/plain": [
       "21"
      ]
     },
     "execution_count": 166,
     "metadata": {},
     "output_type": "execute_result"
    }
   ],
   "source": [
    "array_y = a*array_x+b\n",
    "print(array_y)\n",
    "#mencari besar array_y\n",
    "array_y.size"
   ]
  },
  {
   "cell_type": "markdown",
   "id": "29357b52",
   "metadata": {},
   "source": [
    "Memanggil elemen di dalam _array_"
   ]
  },
  {
   "cell_type": "code",
   "execution_count": 167,
   "id": "4ebd3283",
   "metadata": {},
   "outputs": [
    {
     "name": "stdout",
     "output_type": "stream",
     "text": [
      "-4.5 -12.75\n"
     ]
    }
   ],
   "source": [
    "print(array_x[1],array_y[1])"
   ]
  },
  {
   "cell_type": "markdown",
   "id": "86e21aeb",
   "metadata": {},
   "source": [
    "Mengapa hasil yang keluar demikian?\n",
    "\n",
    "Dalam python indeks pertama adalah 0 hingga N-1.\n",
    "\n",
    "Bagaimana cara memanggil elemen terakhir?"
   ]
  },
  {
   "cell_type": "code",
   "execution_count": 105,
   "id": "9d3ea262",
   "metadata": {},
   "outputs": [
    {
     "data": {
      "image/png": "[encoded data removed]",
      "text/plain": [
       "<Figure size 432x288 with 1 Axes>"
      ]
     },
     "metadata": {
      "needs_background": "light"
     },
     "output_type": "display_data"
    }
   ],
   "source": [
    "import matplotlib.pyplot as plt\n",
    "\n",
    "plt.figure()\n",
    "plt.plot(array_x,array_x)\n",
    "plt.show()"
   ]
  },
  {
   "cell_type": "markdown",
   "id": "94024684",
   "metadata": {},
   "source": [
    "## Conditional If"
   ]
  },
  {
   "cell_type": "code",
   "execution_count": 146,
   "id": "5e5be511",
   "metadata": {},
   "outputs": [
    {
     "name": "stdout",
     "output_type": "stream",
     "text": [
      "kodisi satu salah\n",
      "U lebih dari V\n"
     ]
    }
   ],
   "source": [
    "U = 12\n",
    "V = 10\n",
    "\n",
    "if U<V:\n",
    "    print('U kurang dari V')\n",
    "\n",
    "print('kodisi satu salah')\n",
    "\n",
    "if U>V:\n",
    "    print('U lebih dari V')"
   ]
  },
  {
   "cell_type": "markdown",
   "id": "97c17357",
   "metadata": {},
   "source": [
    "Gabungan dua kondisi dengan `elif` (else if)."
   ]
  },
  {
   "cell_type": "code",
   "execution_count": 151,
   "id": "e905b511",
   "metadata": {},
   "outputs": [
    {
     "name": "stdout",
     "output_type": "stream",
     "text": [
      "U lebih dari V\n"
     ]
    }
   ],
   "source": [
    "U = 12\n",
    "V = 10\n",
    "\n",
    "if U<V:\n",
    "    print('U kurang dari V')\n",
    "elif U>V:\n",
    "    print('U lebih dari V')\n"
   ]
  },
  {
   "cell_type": "markdown",
   "id": "08dcabc5",
   "metadata": {},
   "source": [
    "Tambah kondisi jika U sama dengan V dengan `else`."
   ]
  },
  {
   "cell_type": "code",
   "execution_count": 152,
   "id": "56136162",
   "metadata": {},
   "outputs": [
    {
     "name": "stdout",
     "output_type": "stream",
     "text": [
      "U sama dengan V\n"
     ]
    }
   ],
   "source": [
    "U = 12\n",
    "V = 12\n",
    "\n",
    "if U<V:\n",
    "    print('U kurang dari V')\n",
    "elif U>V:\n",
    "    print('U lebih dari V')\n",
    "else:\n",
    "    print('U sama dengan V')"
   ]
  },
  {
   "cell_type": "markdown",
   "id": "4217676d",
   "metadata": {},
   "source": [
    "Iterasi dengan `for`"
   ]
  },
  {
   "cell_type": "code",
   "execution_count": 153,
   "id": "3f3bd3b4",
   "metadata": {},
   "outputs": [],
   "source": [
    "#Conditional dan iterasi\n",
    "#permainan lempar koin"
   ]
  },
  {
   "cell_type": "code",
   "execution_count": 154,
   "id": "70a02a36",
   "metadata": {},
   "outputs": [
    {
     "name": "stdout",
     "output_type": "stream",
     "text": [
      "0\n",
      "1\n",
      "2\n",
      "3\n",
      "4\n"
     ]
    }
   ],
   "source": [
    "for i in range(5): #mendefinisikan sebuah iterasi diawali dengan for, kemudian iterator, rentang iterasi, dan diakhiri : (titik dua)\n",
    "    #perhitungan di bawah baris awal harus diberi jarak 1 tab untuk \n",
    "    #mendefinisikan bahawa perhitungan atau perintah masih dibawah hirarki yang sama\n",
    "    print(i) #mencetak nilai i yang berperan sebagai iterator sesuai dengan banyaknya rentang iterasi (range(5))"
   ]
  },
  {
   "cell_type": "markdown",
   "id": "0c949c8d",
   "metadata": {},
   "source": [
    "rentang iterasi pada contoh di atas haruslah integer/bilangan bulat. Fungsi `range(5)` bertujuan untuk membuat array berjumlah 5 angka diawali dengan angka 0 hingga angka 4 (5 angka). Mari kita coba menggunakan rentang iterasi sesuai dengan variabel `K`."
   ]
  },
  {
   "cell_type": "code",
   "execution_count": 155,
   "id": "14dd1dd7",
   "metadata": {},
   "outputs": [
    {
     "name": "stdout",
     "output_type": "stream",
     "text": [
      "it ke- 0\n",
      "hasil = 0\n",
      "---\n",
      "it ke- 1\n",
      "hasil = 2\n",
      "---\n",
      "it ke- 2\n",
      "hasil = 4\n",
      "---\n",
      "it ke- 3\n",
      "hasil = 6\n",
      "---\n",
      "it ke- 4\n",
      "hasil = 8\n",
      "---\n"
     ]
    }
   ],
   "source": [
    "K = 5 #mendefinisikan variabel K, anda bisa ganti sesuai keinginan anda\n",
    "for it in range(K): #mengganti iterator dengan nama lain (it)\n",
    "    print('it ke-', it) #mencetak iterator yang bernama it\n",
    "    hasil = it*2 #iterator dapat dimasukkan kedalam perhitungan sehingga hasil yang didapat mengikuti iterasi \n",
    "    print('hasil =', hasil) #mencetak hasil perhitungan tiap iterasi\n",
    "    print('---') #kita pisahkan hasil tiap iterasi agar lebih jelas"
   ]
  },
  {
   "cell_type": "markdown",
   "id": "acce7f71",
   "metadata": {},
   "source": [
    "## Bermain dengan Kondisi dan Iterasi\n",
    "memanggil angka random\n",
    "![fig1](https://raw.githubusercontent.com/SuanandaYogi/Python_Tutorial/master/images/coin.jpg)"
   ]
  },
  {
   "cell_type": "code",
   "execution_count": 141,
   "id": "012795d2",
   "metadata": {},
   "outputs": [
    {
     "name": "stdout",
     "output_type": "stream",
     "text": [
      "Gambar\n",
      "Gambar\n",
      "Angka\n",
      "Gambar\n",
      "Angka\n",
      "Gambar\n",
      "Gambar\n",
      "Angka\n",
      "Gambar\n",
      "Angka\n"
     ]
    }
   ],
   "source": [
    "N = 10\n",
    "\n",
    "for i in range(N):\n",
    "    lemparan = np.random.rand()\n",
    "    if lemparan < 0.5:\n",
    "        print('Gambar')\n",
    "    else:\n",
    "        print('Angka')"
   ]
  },
  {
   "cell_type": "markdown",
   "id": "5ef16d34",
   "metadata": {},
   "source": [
    "Kita hitung jumlah Gambar dan Angka"
   ]
  },
  {
   "cell_type": "code",
   "execution_count": 161,
   "id": "ffbca55e",
   "metadata": {},
   "outputs": [
    {
     "name": "stdout",
     "output_type": "stream",
     "text": [
      "Jumlah Gambar adalah 51\n",
      "Jumlah Angka adalah 49\n"
     ]
    }
   ],
   "source": [
    "N = 100\n",
    "Angka = 0\n",
    "Gambar = 0\n",
    "for i in range(N):\n",
    "    lemparan = np.random.rand()\n",
    "    if lemparan < 0.5:\n",
    "        Gambar = Gambar + 1\n",
    "    else:\n",
    "        Angka = Angka + 1\n",
    "\n",
    "print('Jumlah Gambar adalah',Gambar)\n",
    "print('Jumlah Angka adalah',Angka)\n"
   ]
  },
  {
   "cell_type": "markdown",
   "id": "4baea049",
   "metadata": {},
   "source": [
    "Kita kembangkan dengan menghitung persentase"
   ]
  },
  {
   "cell_type": "code",
   "execution_count": 162,
   "id": "cb291fb4",
   "metadata": {},
   "outputs": [
    {
     "name": "stdout",
     "output_type": "stream",
     "text": [
      "Jumlah Gambar adalah 4996 atau 49.96 %\n",
      "Jumlah Angka adalah 5004 atau 50.03999999999999 %\n"
     ]
    }
   ],
   "source": [
    "N = 10000\n",
    "Angka = 0\n",
    "Gambar = 0\n",
    "for i in range(N):\n",
    "    lemparan = np.random.rand()\n",
    "    if lemparan < 0.5:\n",
    "        Gambar = Gambar + 1\n",
    "    else:\n",
    "        Angka = Angka + 1\n",
    "\n",
    "persen_Gambar = Gambar/N*100\n",
    "persen_Angka = Angka/N*100     \n",
    "\n",
    "print('Jumlah Gambar adalah',Gambar,'atau',persen_Gambar,'%')\n",
    "print('Jumlah Angka adalah',Angka,'atau',persen_Angka,'%')\n"
   ]
  },
  {
   "cell_type": "code",
   "execution_count": null,
   "id": "cec8116e",
   "metadata": {},
   "outputs": [],
   "source": []
  }
 ],
 "metadata": {
  "kernelspec": {
   "display_name": "Python 3",
   "language": "python",
   "name": "python3"
  },
  "language_info": {
   "codemirror_mode": {
    "name": "ipython",
    "version": 3
   },
   "file_extension": ".py",
   "mimetype": "text/x-python",
   "name": "python",
   "nbconvert_exporter": "python",
   "pygments_lexer": "ipython3",
   "version": "3.9.5"
  }
 },
 "nbformat": 4,
 "nbformat_minor": 5
}

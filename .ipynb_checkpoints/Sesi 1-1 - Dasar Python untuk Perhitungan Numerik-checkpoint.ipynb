{
 "cells": [
  {
   "cell_type": "markdown",
   "id": "1e245a0e",
   "metadata": {},
   "source": [
    "<a href=\"https://colab.research.google.com/github/SuanandaYogi/Python_Tutorial/blob/master/Sesi%201-1%20-%20Dasar%20Python%20untuk%20Perhitungan%20Numerik.ipynb\" target=\"_parent\"><img src=\"https://colab.research.google.com/assets/colab-badge.svg\" alt=\"Open In Colab\"/></a>"
   ]
  },
  {
   "cell_type": "code",
   "execution_count": 1,
   "id": "26d56b3c",
   "metadata": {},
   "outputs": [
    {
     "name": "stdout",
     "output_type": "stream",
     "text": [
      "Hello World!\n"
     ]
    }
   ],
   "source": [
    "print('Hello World!')"
   ]
  },
  {
   "cell_type": "markdown",
   "id": "a0294d9f",
   "metadata": {},
   "source": [
    "## Memanggil modul Numpy\n",
    "Sebelum memulai perhitungan numerik, kita panggil modul perhitungan numerik yang ada di Python, yaitu Numpy. Modul Numpy dipanggil dan selanjutnya disebut sebagai **np**"
   ]
  },
  {
   "cell_type": "code",
   "execution_count": 35,
   "id": "2b0ccf23",
   "metadata": {},
   "outputs": [],
   "source": [
    "import numpy as np"
   ]
  },
  {
   "cell_type": "code",
   "execution_count": 36,
   "id": "150d4093",
   "metadata": {},
   "outputs": [],
   "source": [
    "a = 2.5\n",
    "b = -1.5"
   ]
  },
  {
   "cell_type": "code",
   "execution_count": 37,
   "id": "e21d414d",
   "metadata": {},
   "outputs": [
    {
     "name": "stdout",
     "output_type": "stream",
     "text": [
      "2.5\n",
      "-1.5\n",
      "a adalah 2.5 dan b adalah -1.5\n"
     ]
    }
   ],
   "source": [
    "print(a)\n",
    "print(b)\n",
    "print('a adalah',a,'dan b adalah',b)"
   ]
  },
  {
   "cell_type": "markdown",
   "id": "1c10330b",
   "metadata": {},
   "source": [
    "$$y=ax+b$$ dengan $$-5\\ge x \\ge 5$$\n",
    "kita buat sebuah kumpulan angka (1D) yang disebut sebagai _array_ dengan jumlah data 11 menggunakan fungsi `linspace`"
   ]
  },
  {
   "cell_type": "code",
   "execution_count": 67,
   "id": "012f7c5a",
   "metadata": {},
   "outputs": [
    {
     "name": "stdout",
     "output_type": "stream",
     "text": [
      "[-5. -4. -3. -2. -1.  0.  1.  2.  3.  4.  5.]\n"
     ]
    }
   ],
   "source": [
    "array_x = np.linspace(-5.,5.,num=11)\n",
    "print(array_x)"
   ]
  },
  {
   "cell_type": "code",
   "execution_count": 89,
   "id": "b3431321",
   "metadata": {},
   "outputs": [
    {
     "name": "stdout",
     "output_type": "stream",
     "text": [
      "[-10.  -7.  -4.  -1.   2.   5.   8.  11.  14.  17.  20.]\n"
     ]
    },
    {
     "data": {
      "text/plain": [
       "11"
      ]
     },
     "execution_count": 89,
     "metadata": {},
     "output_type": "execute_result"
    }
   ],
   "source": [
    "array_y = a*array_x+b\n",
    "print(array_y)\n",
    "\n",
    "#mencari besar array_y\n",
    "array_y.size"
   ]
  },
  {
   "cell_type": "markdown",
   "id": "861a8336",
   "metadata": {},
   "source": [
    "## Memanggil modul Matplotlib\n",
    "Untuk menampilkan kurva hasil perhitungan kita gunakan modul Matplotlib, khususnya bagian yang lebih spesifik yaitu **pyplot**. Hal ini dilakukan dengan cara mengimport **pyplot** dan kemudian menyebutnya sebagai **plt** agar lebih singkat."
   ]
  },
  {
   "cell_type": "code",
   "execution_count": 90,
   "id": "08e12b86",
   "metadata": {},
   "outputs": [],
   "source": [
    "import matplotlib.pyplot as plt"
   ]
  },
  {
   "cell_type": "code",
   "execution_count": 91,
   "id": "9d3ea262",
   "metadata": {
    "scrolled": true
   },
   "outputs": [
    {
     "data": {
      "image/png": "[encoded data removed]",
      "text/plain": [
       "<Figure size 432x288 with 1 Axes>"
      ]
     },
     "metadata": {
      "needs_background": "light"
     },
     "output_type": "display_data"
    }
   ],
   "source": [
    "plt.figure()\n",
    "plt.plot(array_x,array_y)\n",
    "plt.show()"
   ]
  },
  {
   "cell_type": "markdown",
   "id": "ae43ffd4",
   "metadata": {},
   "source": [
    "Yang terjadi adalah tiap titik dihitung sehingga dapat diplot menjadi sebuah garis"
   ]
  },
  {
   "cell_type": "code",
   "execution_count": 74,
   "id": "4fb0bb0c",
   "metadata": {},
   "outputs": [
    {
     "data": {
      "image/png": "[encoded data removed]",
      "text/plain": [
       "<Figure size 432x288 with 1 Axes>"
      ]
     },
     "metadata": {
      "needs_background": "light"
     },
     "output_type": "display_data"
    }
   ],
   "source": [
    "plt.figure()\n",
    "plt.plot(array_x,array_y,'.')\n",
    "plt.show()"
   ]
  },
  {
   "cell_type": "markdown",
   "id": "29357b52",
   "metadata": {},
   "source": [
    "## Memanggil elemen di dalam _array_"
   ]
  },
  {
   "cell_type": "code",
   "execution_count": 76,
   "id": "4ebd3283",
   "metadata": {},
   "outputs": [
    {
     "name": "stdout",
     "output_type": "stream",
     "text": [
      "-4.0 -7.0\n"
     ]
    }
   ],
   "source": [
    "print(array_x[1],array_y[1])"
   ]
  },
  {
   "cell_type": "markdown",
   "id": "86e21aeb",
   "metadata": {},
   "source": [
    "Mengapa hasil yang keluar demikian?\n",
    "\n",
    "Bagaimana cara memanggil elemen terakhir?"
   ]
  },
  {
   "cell_type": "markdown",
   "id": "94024684",
   "metadata": {},
   "source": [
    "## Conditional If"
   ]
  },
  {
   "cell_type": "code",
   "execution_count": 77,
   "id": "5e5be511",
   "metadata": {},
   "outputs": [
    {
     "name": "stdout",
     "output_type": "stream",
     "text": [
      "kondisi pertama\n",
      "kondisi kedua\n",
      "A kurang dari B\n"
     ]
    }
   ],
   "source": [
    "A = 5\n",
    "B = 3\n",
    "\n",
    "print('kondisi pertama')\n",
    "\n",
    "if A<B:\n",
    "    print('A kurang dari B')\n",
    "\n",
    "print('kondisi kedua')\n",
    "\n",
    "if A>B:\n",
    "    print('A kurang dari B')"
   ]
  },
  {
   "cell_type": "markdown",
   "id": "09856685",
   "metadata": {},
   "source": [
    "Kita gabungkan dua kondisi dengan `elif` (_else if_)"
   ]
  },
  {
   "cell_type": "code",
   "execution_count": 92,
   "id": "1824dfcb",
   "metadata": {},
   "outputs": [
    {
     "name": "stdout",
     "output_type": "stream",
     "text": [
      "A kurang dari B\n"
     ]
    }
   ],
   "source": [
    "A = 3\n",
    "B = 5\n",
    "if A<B:\n",
    "    print('A kurang dari B')\n",
    "elif A>B:\n",
    "    print('A lebih dari B')"
   ]
  },
  {
   "cell_type": "markdown",
   "id": "1c58b19d",
   "metadata": {},
   "source": [
    "Syarat terakhir jika kedua kondisi tidak tercapai menggunakan `else`"
   ]
  },
  {
   "cell_type": "code",
   "execution_count": 93,
   "id": "3ff6e29b",
   "metadata": {},
   "outputs": [
    {
     "name": "stdout",
     "output_type": "stream",
     "text": [
      "A kurang dari B\n"
     ]
    }
   ],
   "source": [
    "A = 3\n",
    "B = 5\n",
    "if A<B:\n",
    "    print('A kurang dari B')\n",
    "elif A>B:\n",
    "    print('A lebih dari B')\n",
    "else:\n",
    "    print('A sama dengan B')"
   ]
  },
  {
   "cell_type": "markdown",
   "id": "4217676d",
   "metadata": {},
   "source": [
    "## Iterasi dengan `for`\n",
    "\n",
    "melakukan iterasi terhadap isi dari array"
   ]
  },
  {
   "cell_type": "code",
   "execution_count": 80,
   "id": "70a02a36",
   "metadata": {},
   "outputs": [
    {
     "name": "stdout",
     "output_type": "stream",
     "text": [
      "0\n",
      "1\n",
      "2\n",
      "3\n",
      "4\n"
     ]
    }
   ],
   "source": [
    "for i in range(5): #mendefinisikan sebuah iterasi diawali dengan for, kemudian iterator, rentang iterasi, dan diakhiri : (titik dua)\n",
    "    #perhitungan di bawah baris awal harus diberi jarak 1 tab untuk \n",
    "    #mendefinisikan bahawa perhitungan atau perintah masih dibawah hirarki yang sama\n",
    "    print(i) #mencetak nilai i yang berperan sebagai iterator sesuai dengan banyaknya rentang iterasi (range(5))"
   ]
  },
  {
   "cell_type": "markdown",
   "id": "0c949c8d",
   "metadata": {},
   "source": [
    "rentang iterasi pada contoh di atas haruslah integer/bilangan bulat. Fungsi `range(5)` bertujuan untuk membuat array berjumlah 5 angka diawali dengan angka 0 hingga angka 4 (5 angka). Mari kita coba menggunakan rentang iterasi sesuai dengan variabel `K`."
   ]
  },
  {
   "cell_type": "code",
   "execution_count": 81,
   "id": "14dd1dd7",
   "metadata": {},
   "outputs": [
    {
     "name": "stdout",
     "output_type": "stream",
     "text": [
      "it ke- 0\n",
      "hasil = 0\n",
      "---\n",
      "it ke- 1\n",
      "hasil = 2\n",
      "---\n",
      "it ke- 2\n",
      "hasil = 4\n",
      "---\n",
      "it ke- 3\n",
      "hasil = 6\n",
      "---\n",
      "it ke- 4\n",
      "hasil = 8\n",
      "---\n"
     ]
    }
   ],
   "source": [
    "K = 5 #mendefinisikan variabel K, anda bisa ganti sesuai keinginan anda\n",
    "for it in range(K): #mengganti iterator dengan nama lain (it)\n",
    "    print('it ke-', it) #mencetak iterator yang bernama it\n",
    "    hasil = it*2 #iterator dapat dimasukkan kedalam perhitungan sehingga hasil yang didapat mengikuti iterasi \n",
    "    print('hasil =', hasil) #mencetak hasil perhitungan tiap iterasi\n",
    "    print('---') #kita pisahkan hasil tiap iterasi agar lebih jelas"
   ]
  },
  {
   "cell_type": "code",
   "execution_count": 82,
   "id": "3f3bd3b4",
   "metadata": {},
   "outputs": [],
   "source": [
    "#Conditional dan iterasi\n",
    "#permainan lempar koin"
   ]
  },
  {
   "cell_type": "markdown",
   "id": "acce7f71",
   "metadata": {},
   "source": [
    "## Bermain dengan Kondisi dan Iterasi\n",
    "memanggil angka random\n",
    "\n",
    "<img src=\"https://raw.githubusercontent.com/SuanandaYogi/Python_Tutorial/master/images/coin.jpg\" alt=\"fig1\" style=\"width: 200px;\"/>"
   ]
  },
  {
   "cell_type": "code",
   "execution_count": 83,
   "id": "012795d2",
   "metadata": {},
   "outputs": [
    {
     "name": "stdout",
     "output_type": "stream",
     "text": [
      "0 Gambar\n",
      "1 Angka\n",
      "2 Angka\n",
      "3 Gambar\n",
      "4 Gambar\n",
      "5 Angka\n",
      "6 Angka\n",
      "7 Angka\n",
      "8 Gambar\n",
      "9 Gambar\n"
     ]
    }
   ],
   "source": [
    "N = 10\n",
    "\n",
    "for i in range(N):\n",
    "    lemparan = np.random.rand()\n",
    "    if lemparan < 0.5:\n",
    "        print(i,'Gambar')\n",
    "    else:\n",
    "        print(i,'Angka')"
   ]
  },
  {
   "cell_type": "markdown",
   "id": "5ef16d34",
   "metadata": {},
   "source": [
    "Kita hitung jumlah Gambar dan Angka"
   ]
  },
  {
   "cell_type": "code",
   "execution_count": 84,
   "id": "ffbca55e",
   "metadata": {},
   "outputs": [
    {
     "name": "stdout",
     "output_type": "stream",
     "text": [
      "Jumlah Gambar adalah 49\n",
      "Jumlah Angka adalah 51\n"
     ]
    }
   ],
   "source": [
    "N = 100\n",
    "Angka = 0\n",
    "Gambar = 0\n",
    "for i in range(N):\n",
    "    lemparan = np.random.rand()\n",
    "    if lemparan < 0.5:\n",
    "        Gambar = Gambar + 1\n",
    "    else:\n",
    "        Angka = Angka + 1\n",
    "\n",
    "print('Jumlah Gambar adalah',Gambar)\n",
    "print('Jumlah Angka adalah',Angka)\n"
   ]
  },
  {
   "cell_type": "markdown",
   "id": "4baea049",
   "metadata": {},
   "source": [
    "Kita kembangkan dengan menghitung persentase"
   ]
  },
  {
   "cell_type": "code",
   "execution_count": 85,
   "id": "cb291fb4",
   "metadata": {},
   "outputs": [
    {
     "name": "stdout",
     "output_type": "stream",
     "text": [
      "Jumlah Gambar adalah 5019 atau 50.19 %\n",
      "Jumlah Angka adalah 4981 atau 49.81 %\n"
     ]
    }
   ],
   "source": [
    "N = 10000\n",
    "Angka = 0\n",
    "Gambar = 0\n",
    "for i in range(N):\n",
    "    lemparan = np.random.rand()\n",
    "    if lemparan < 0.5:\n",
    "        Gambar = Gambar + 1\n",
    "    else:\n",
    "        Angka = Angka + 1\n",
    "\n",
    "persen_Gambar = Gambar/N*100\n",
    "persen_Angka = Angka/N*100     \n",
    "\n",
    "print('Jumlah Gambar adalah',Gambar,'atau',persen_Gambar,'%')\n",
    "print('Jumlah Angka adalah',Angka,'atau',persen_Angka,'%')\n"
   ]
  },
  {
   "cell_type": "markdown",
   "id": "116a4169",
   "metadata": {},
   "source": [
    "**Coba buat program untuk menghitung peluang dari dadu 6 sisi**"
   ]
  },
  {
   "cell_type": "code",
   "execution_count": null,
   "id": "54adc9a4",
   "metadata": {},
   "outputs": [],
   "source": []
  }
 ],
 "metadata": {
  "kernelspec": {
   "display_name": "Python 3",
   "language": "python",
   "name": "python3"
  },
  "language_info": {
   "codemirror_mode": {
    "name": "ipython",
    "version": 3
   },
   "file_extension": ".py",
   "mimetype": "text/x-python",
   "name": "python",
   "nbconvert_exporter": "python",
   "pygments_lexer": "ipython3",
   "version": "3.9.5"
  }
 },
 "nbformat": 4,
 "nbformat_minor": 5
}

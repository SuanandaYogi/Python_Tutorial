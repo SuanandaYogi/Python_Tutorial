{
 "cells": [
  {
   "cell_type": "markdown",
   "id": "dd660bda",
   "metadata": {},
   "source": [
    "## Pemodelan Kedepan 2D\n",
    "\n",
    "$$t_i = \\frac{{\\sqrt {{{\\left( {{x_i} - x_s} \\right)}^2} + {{\\left( {{y_i} - y_s} \\right)}^2} } }}{v }$$"
   ]
  },
  {
   "cell_type": "code",
   "execution_count": 104,
   "id": "90e050a6",
   "metadata": {},
   "outputs": [],
   "source": [
    "#memanggil modul numpy dan matplotlib.pyplot\n",
    "\n",
    "import numpy as np\n",
    "import matplotlib.pyplot as plt"
   ]
  },
  {
   "cell_type": "code",
   "execution_count": 105,
   "id": "d7581435",
   "metadata": {},
   "outputs": [],
   "source": [
    "#membuat fungsi pemodelan kedepan waktu tiba gelombang gempa bumi pada kasus 1D\n",
    "\n",
    "def fw_waktu_2d(coor_s,coor_i):\n",
    "    #xs adalah posisi sumber (km)\n",
    "    #xi adalah posisi stasiun ke-i (km)\n",
    "    xi = coor_i[0]\n",
    "    yi = coor_i[1]\n",
    "    xs = coor_s[0]\n",
    "    ys = coor_s[1]\n",
    "    vp = 7 #kecepatan gelombang gempa (P) 7km/jam\n",
    "    t = np.sqrt((xi-xs)**2+(yi-ys)**2)/vp #menghitung waktu tiba gelombang gempa pada stasiun ke-i\n",
    "    return t #output nilai t dijadikan hasil perhitungan fungsi"
   ]
  },
  {
   "cell_type": "code",
   "execution_count": 107,
   "id": "b2307126",
   "metadata": {},
   "outputs": [
    {
     "data": {
      "text/plain": [
       "1.4142135623730951"
      ]
     },
     "execution_count": 107,
     "metadata": {},
     "output_type": "execute_result"
    }
   ],
   "source": [
    "#kita uji fungsi tersebut\n",
    "fw_waktu_2d([0,0],[7,7])"
   ]
  },
  {
   "cell_type": "code",
   "execution_count": 108,
   "id": "3b0aee19",
   "metadata": {},
   "outputs": [],
   "source": [
    "def Fungsi_RMS(d_cal,d_obs):\n",
    "    jumlah = 0\n",
    "    N = d_obs.size\n",
    "    for it in range(N):\n",
    "        kuadratdd = (d_cal[it]-d_obs[it])**2 #melakukan perhitungan d_cal dan d_obs ke-i\n",
    "        jumlah = jumlah + kuadratdd\n",
    "\n",
    "    rata2 = jumlah/N\n",
    "    RMS = np.sqrt(rata2)\n",
    "    return RMS"
   ]
  },
  {
   "cell_type": "markdown",
   "id": "368e7530",
   "metadata": {},
   "source": [
    "## Trial and Error Forward modeling\n",
    "\n",
    "Dengan posisi stasiun yang sama, kita mencatat sebuah kejadian gempa bumi dengan data waktu tiba berikut \n",
    "\n",
    "|Stasiun | X (km) | Y (km) | Waktu tiba (s)|\n",
    "|-|-|-|-|\n",
    "|1|35|9|6.0|\n",
    "|2|-44|10|6.32|\n",
    "|3|-23|-39|5.85|\n",
    "\n",
    "Coba tentukan posisi sumber gempa bumi dengan cara di atas."
   ]
  },
  {
   "cell_type": "code",
   "execution_count": 136,
   "id": "c6975305",
   "metadata": {},
   "outputs": [
    {
     "name": "stdout",
     "output_type": "stream",
     "text": [
      "RMS 1.1073320412938472\n"
     ]
    },
    {
     "data": {
      "image/png": "[encoded data removed]",
      "text/plain": [
       "<Figure size 432x288 with 1 Axes>"
      ]
     },
     "metadata": {
      "needs_background": "light"
     },
     "output_type": "display_data"
    }
   ],
   "source": [
    "#kita definisikan posisi sumber dan stasiun\n",
    "\n",
    "t_obs = np.array([6.0, 6.32, 5.85])\n",
    "\n",
    "posisi_sumber = np.array([4,5]) #posisi sumber gempa bumi\n",
    "posisi_stasiun = np.array([[35,9],[-44,10],[23,-39]])  \n",
    "#print('dimensi matriks posisi_stasiun',posisi_stasiun.shape)\n",
    "N_stasiun = posisi_stasiun.shape[0]\n",
    "\n",
    "\n",
    "t_cal = np.zeros(N_stasiun) #menyiapkan array kosong untuk menyimpan data simulasi \n",
    "for it in range(N_stasiun):\n",
    "    t_cal[it] = fw_waktu_2d(posisi_sumber,posisi_stasiun[it])\n",
    "\n",
    "#menghitung RMS dengan fungsi sebelumnya\n",
    "RMS = Fungsi_RMS(t_cal,t_obs) \n",
    "print('RMS',RMS)\n",
    "\n",
    "#plot stasiun dan tebakan\n",
    "plt.figure()\n",
    "for it in range(N_stasiun):\n",
    "    plt.plot(posisi_stasiun[it,0],posisi_stasiun[it,1],'rv')\n",
    "plt.plot(posisi_sumber[0],posisi_sumber[1],'k*')\n",
    "plt.show()"
   ]
  },
  {
   "cell_type": "markdown",
   "id": "aea814a1",
   "metadata": {},
   "source": [
    "## Grid Search 2D"
   ]
  },
  {
   "cell_type": "code",
   "execution_count": 174,
   "id": "9b711343",
   "metadata": {},
   "outputs": [],
   "source": [
    "#kita definisikan posisi sumber dan stasiun\n",
    "\n",
    "t_obs = np.array([6.0, 6.32, 5.85])\n",
    "posisi_stasiun = np.array([[35,9],[-44,10],[23,-39]])  \n",
    "#print('dimensi matriks posisi_stasiun',posisi_stasiun.shape)\n",
    "N_stasiun = posisi_stasiun.shape[0]\n",
    "        \n",
    "jumlah_sampel = 20\n",
    "x_range = np.linspace(-60,50,num=jumlah_sampel)\n",
    "y_range = np.linspace(-50,20,num=jumlah_sampel)\n",
    "\n",
    "#kita siapkan array RMS untuk menyimpan proses uji coba\n",
    "list_RMS = np.zeros((jumlah_sampel,jumlah_sampel))"
   ]
  },
  {
   "cell_type": "code",
   "execution_count": 175,
   "id": "d801e754",
   "metadata": {},
   "outputs": [],
   "source": [
    "for it_x in range(jumlah_sampel):\n",
    "    for it_y in range(jumlah_sampel):\n",
    "        posisi_sumber = np.array([x_range[it_x],y_range[it_y]]) #posisi sumber gempa bumi\n",
    "\n",
    "        t_cal = np.zeros(N_stasiun) #menyiapkan array kosong untuk menyimpan data simulasi \n",
    "        for it in range(N_stasiun):\n",
    "            t_cal[it] = fw_waktu_2d(posisi_sumber,posisi_stasiun[it])\n",
    "\n",
    "        #menghitung RMS dengan fungsi sebelumnya\n",
    "        list_RMS[it_y,it_x] = Fungsi_RMS(t_cal,t_obs) "
   ]
  },
  {
   "cell_type": "code",
   "execution_count": 176,
   "id": "042da826",
   "metadata": {},
   "outputs": [
    {
     "name": "stdout",
     "output_type": "stream",
     "text": [
      "RMS terkecil 0.1839504594266979 Pada posisi [-2.10526316 -5.78947368]\n"
     ]
    }
   ],
   "source": [
    "Best_RMS = list_RMS[0,0]\n",
    "Best_source = np.array([x_range[0],y_range[0]])\n",
    "\n",
    "for it_x in range(jumlah_sampel):\n",
    "    for it_y in range(jumlah_sampel):\n",
    "        if list_RMS[it_y,it_x] <  Best_RMS:\n",
    "            Best_RMS = list_RMS[it_y,it_x]\n",
    "            Best_source =  np.array([x_range[it_x],y_range[it_y]])\n",
    "\n",
    "print('RMS terkecil',Best_RMS,'Pada posisi',Best_source)"
   ]
  },
  {
   "cell_type": "code",
   "execution_count": 180,
   "id": "cdbe975d",
   "metadata": {},
   "outputs": [
    {
     "data": {
      "image/png": "[encoded data removed]",
      "text/plain": [
       "<Figure size 600x400 with 1 Axes>"
      ]
     },
     "metadata": {
      "needs_background": "light"
     },
     "output_type": "display_data"
    }
   ],
   "source": [
    "#plot stasiun dan tebakan\n",
    "coor_xx,coor_yy = np.meshgrid(x_range,y_range)\n",
    "\n",
    "plt.figure(dpi=100)\n",
    "plt.contourf(coor_xx,coor_yy,list_RMS)\n",
    "for it in range(N_stasiun):\n",
    "    plt.plot(posisi_stasiun[it,0],posisi_stasiun[it,1],'rv',ms=10)\n",
    "plt.plot(Best_source[0],Best_source[1],'r*',ms=10)\n",
    "plt.show()\n"
   ]
  },
  {
   "cell_type": "code",
   "execution_count": null,
   "id": "4272cfaa",
   "metadata": {},
   "outputs": [],
   "source": []
  }
 ],
 "metadata": {
  "kernelspec": {
   "display_name": "Python 3",
   "language": "python",
   "name": "python3"
  },
  "language_info": {
   "codemirror_mode": {
    "name": "ipython",
    "version": 3
   },
   "file_extension": ".py",
   "mimetype": "text/x-python",
   "name": "python",
   "nbconvert_exporter": "python",
   "pygments_lexer": "ipython3",
   "version": "3.9.5"
  }
 },
 "nbformat": 4,
 "nbformat_minor": 5
}

{
 "cells": [
  {
   "cell_type": "markdown",
   "id": "f4f4131c",
   "metadata": {},
   "source": [
    "# Soal Latihan Grid Search 3D\n",
    "\n",
    "Kembangkan materi grid search 2D untuk data yang lebih real (3D)\n",
    "\n",
    "|Stasiun | X (km) | Y (km) | Waktu tiba (T<sub>P</sub>)| Waktu tiba (T<sub>S</sub>)|\n",
    "|-|-|-|-|-|\n",
    "|Eureka, CA|174.64|1187.57|01:35:34.5|01:36:26.7|\n",
    "|Elko, NV|841.96|1004.26|01:35:29.8|01:36:18.2|\n",
    "|Las Vegas, NV|770.19|463.77|01:35:46.3|01:36:48.4|\n",
    "\n",
    "asumsikan bahwa semua stasiun berada pada z = 0 km dan kecepatan gelombang gempa (P) 7.82 km/s"
   ]
  },
  {
   "cell_type": "code",
   "execution_count": 13,
   "id": "cdda9579",
   "metadata": {},
   "outputs": [
    {
     "ename": "SyntaxError",
     "evalue": "invalid syntax (<ipython-input-13-97d1a2a1391b>, line 3)",
     "output_type": "error",
     "traceback": [
      "\u001b[0;36m  File \u001b[0;32m\"<ipython-input-13-97d1a2a1391b>\"\u001b[0;36m, line \u001b[0;32m3\u001b[0m\n\u001b[0;31m    import\u001b[0m\n\u001b[0m           ^\u001b[0m\n\u001b[0;31mSyntaxError\u001b[0m\u001b[0;31m:\u001b[0m invalid syntax\n"
     ]
    }
   ],
   "source": [
    "#import modul yang dibutuhkan\n",
    "\n",
    "import "
   ]
  },
  {
   "cell_type": "markdown",
   "id": "a1663360",
   "metadata": {},
   "source": [
    "## Fungsi Pemodelan Kedepan untuk menghitung waktu tiba 3D\n",
    "\n"
   ]
  },
  {
   "cell_type": "code",
   "execution_count": 11,
   "id": "b397463b",
   "metadata": {},
   "outputs": [
    {
     "ename": "IndentationError",
     "evalue": "expected an indented block (<ipython-input-11-4276cf8b1148>, line 4)",
     "output_type": "error",
     "traceback": [
      "\u001b[0;36m  File \u001b[0;32m\"<ipython-input-11-4276cf8b1148>\"\u001b[0;36m, line \u001b[0;32m4\u001b[0m\n\u001b[0;31m    \u001b[0m\n\u001b[0m    ^\u001b[0m\n\u001b[0;31mIndentationError\u001b[0m\u001b[0;31m:\u001b[0m expected an indented block\n"
     ]
    }
   ],
   "source": [
    "#Fungsi waktu tiba 3D\n",
    "\n",
    "def fw_waktu_2d(t_0,coor_s,coor_i):\n",
    "    "
   ]
  },
  {
   "cell_type": "markdown",
   "id": "9dfa8c15",
   "metadata": {},
   "source": [
    "## Fungsi menghitung RMS\n",
    "\n"
   ]
  },
  {
   "cell_type": "code",
   "execution_count": 14,
   "id": "c43288c0",
   "metadata": {},
   "outputs": [],
   "source": [
    "def Fungsi_RMS(d_cal,d_obs):\n",
    "    jumlah = 0\n",
    "    N = d_obs.size\n",
    "    for it in range(N):\n",
    "        kuadratdd = (d_cal[it]-d_obs[it])**2 #melakukan perhitungan d_cal dan d_obs ke-i\n",
    "        jumlah = jumlah + kuadratdd\n",
    "\n",
    "    rata2 = jumlah/N\n",
    "    RMS = np.sqrt(rata2)\n",
    "    return RMS"
   ]
  },
  {
   "cell_type": "markdown",
   "id": "318c2ee7",
   "metadata": {},
   "source": [
    "## Algoritma menentukan waktu awal gempa bumi(T<sub>0</sub>)\n",
    "\n"
   ]
  },
  {
   "cell_type": "code",
   "execution_count": 17,
   "id": "beb15ca4",
   "metadata": {},
   "outputs": [
    {
     "ename": "SyntaxError",
     "evalue": "invalid syntax (<ipython-input-17-347365b0bf83>, line 2)",
     "output_type": "error",
     "traceback": [
      "\u001b[0;36m  File \u001b[0;32m\"<ipython-input-17-347365b0bf83>\"\u001b[0;36m, line \u001b[0;32m2\u001b[0m\n\u001b[0;31m    tp_obs =\u001b[0m\n\u001b[0m             ^\u001b[0m\n\u001b[0;31mSyntaxError\u001b[0m\u001b[0;31m:\u001b[0m invalid syntax\n"
     ]
    }
   ],
   "source": [
    "# waktu tiba gelombang P dalam detik\n",
    "tp_obs = \n",
    "\n",
    "# waktu tiba gelombang S dalam detik\n",
    "ts_obs = \n",
    "\n",
    "# ts-tp\n",
    "tsp = ts_obs-tp_obs"
   ]
  },
  {
   "cell_type": "code",
   "execution_count": 18,
   "id": "40ddf78b",
   "metadata": {},
   "outputs": [
    {
     "ename": "SyntaxError",
     "evalue": "invalid syntax (<ipython-input-18-c467811379d6>, line 3)",
     "output_type": "error",
     "traceback": [
      "\u001b[0;36m  File \u001b[0;32m\"<ipython-input-18-c467811379d6>\"\u001b[0;36m, line \u001b[0;32m3\u001b[0m\n\u001b[0;31m    G =\u001b[0m\n\u001b[0m       ^\u001b[0m\n\u001b[0;31mSyntaxError\u001b[0m\u001b[0;31m:\u001b[0m invalid syntax\n"
     ]
    }
   ],
   "source": [
    "# inisiasi matriks untuk inversi\n",
    "\n",
    "G =\n",
    "d = \n",
    "\n",
    "# proses inversi\n",
    "\n",
    "\n",
    "# menghitung waktu origin (T_0)\n",
    "t_0 = "
   ]
  },
  {
   "cell_type": "markdown",
   "id": "8ba6c9c9",
   "metadata": {},
   "source": [
    "## Algoritma menentukan lokasi gempa bumi (Hiposenter) x,y,z\n",
    "\n"
   ]
  },
  {
   "cell_type": "code",
   "execution_count": 19,
   "id": "5a9e6838",
   "metadata": {},
   "outputs": [],
   "source": [
    "# Plot posisi stasiun untuk memperkirakan rentang pencarian\n",
    "\n",
    "t_obs = tp_obs\n",
    "\n",
    "posisi_stasiun =\n",
    "\n",
    "plt.figure()\n",
    "for it in range(N_stasiun):\n",
    "    plt.plot(posisi_stasiun[it,0],posisi_stasiun[it,1],'rv')\n",
    "plt.show()"
   ]
  },
  {
   "cell_type": "code",
   "execution_count": null,
   "id": "cf3b030c",
   "metadata": {},
   "outputs": [],
   "source": [
    "#menentukan rentang pencarian\n",
    "\n",
    "jumlah_sampel_x = \n",
    "jumlah_sampel_y = \n",
    "jumlah_sampel_z = \n",
    "\n",
    "x_range = np.linspace(,,num=jumlah_sampel_x)\n",
    "y_range = np.linspace(,,num=jumlah_sampel_y)\n",
    "z_range = np.linspace(,,num=jumlah_sampel_z)\n",
    "\n",
    "#kita siapkan array RMS untuk menyimpan proses uji coba\n",
    "list_RMS = np.zeros((jumlah_sampel_y,jumlah_sampel_x,jumlah_sampel_z))"
   ]
  },
  {
   "cell_type": "code",
   "execution_count": null,
   "id": "284223c9",
   "metadata": {},
   "outputs": [],
   "source": [
    "#lakukan iterasi pencarian hiposenter\n",
    "for it_x in range(jumlah_sampel):\n",
    "    for it_y in range(jumlah_sampel):\n",
    "        for it_z in range(jumlah_sampel):\n",
    "            \n"
   ]
  },
  {
   "cell_type": "code",
   "execution_count": null,
   "id": "6723eb9d",
   "metadata": {},
   "outputs": [],
   "source": [
    "#menentukan hiposenter dengan RMS terkecil\n",
    "Best_RMS = list_RMS[0,0,0]\n",
    "Best_source = np.array([x_range[0],y_range[0],z_range[0]])\n",
    "\n",
    "#iterasi\n",
    "\n",
    "\n",
    "print('RMS terkecil',Best_RMS,'Pada posisi',Best_source)"
   ]
  },
  {
   "cell_type": "code",
   "execution_count": 1,
   "id": "cfe5bf54",
   "metadata": {},
   "outputs": [
    {
     "name": "stdout",
     "output_type": "stream",
     "text": [
      "0.4041814935393522 [475.0, 895.0, 245.0]\n",
      "0.4158045545383252 [475.0, 895.0, 250.0]\n",
      "0.45629513089147244 [475.0, 900.0, 245.0]\n",
      "0.43209982934150953 [475.0, 900.0, 250.0]\n",
      "0.473017871467313 [480.0, 895.0, 245.0]\n",
      "0.3746781140673117 [480.0, 895.0, 250.0]\n",
      "0.33779403611937403 [480.0, 900.0, 245.0]\n",
      "0.03902407409618999 [480.0, 900.0, 250.0]\n",
      "0.30687851588147796 [480.0, 900.0, 255.0]\n",
      "0.35443794442685356 [480.0, 905.0, 250.0]\n",
      "0.43597379654443197 [480.0, 905.0, 255.0]\n",
      "0.40704739519500044 [485.0, 900.0, 250.0]\n",
      "0.40666018896182504 [485.0, 900.0, 255.0]\n",
      "0.37040240175566047 [485.0, 905.0, 250.0]\n",
      "0.3323653993839313 [485.0, 905.0, 255.0]\n"
     ]
    }
   ],
   "source": [
    "import numpy as np\n",
    "import matplotlib.pyplot as plt\n",
    "def arrivaltime (s,m,v):\n",
    "    t = m[3]+np.sqrt((s[:,0]-m[0])**2+(s[:,1]-m[1])**2+(s[:,2]-m[2])**2)/v\n",
    "    return t\n",
    "def ERMS (t_obs,t_cal):\n",
    "    return np.sqrt(np.mean((t_obs-t_cal)**2))\n",
    "st = np.array([[174.64,1187.57,0],[841.96, 1004.26,0],[770.19, 463.77,0]])\n",
    "t0 = -28.0\n",
    "v_p = 7.8181\n",
    "t_obs = [34.5,29.8,46.3]\n",
    "\n",
    "step = 5\n",
    "x_range = np.arange(450.,550.,step)\n",
    "y_range = np.arange(850.,950.,step)\n",
    "z_range = np.arange(200.,300.,step)\n",
    "xx, yy, zz = np.meshgrid(x_range,y_range,z_range)\n",
    "RMS = np.zeros_like(xx)\n",
    "for it_x in range(len(x_range)):\n",
    "    for it_y in range(len(y_range)):\n",
    "        for it_z in range(len(z_range)):\n",
    "            t_cal = arrivaltime(st,[x_range[it_x],y_range[it_y],z_range[it_z],t0],v_p)\n",
    "            RMS[it_y,it_x,it_z] = ERMS(t_obs,t_cal)\n",
    "            if RMS[it_y,it_x,it_z]<0.5:\n",
    "                print(RMS[it_y,it_x,it_z],[x_range[it_x],y_range[it_y],z_range[it_z]])"
   ]
  },
  {
   "cell_type": "code",
   "execution_count": null,
   "id": "b86d11e2",
   "metadata": {},
   "outputs": [],
   "source": []
  }
 ],
 "metadata": {
  "kernelspec": {
   "display_name": "Python 3",
   "language": "python",
   "name": "python3"
  },
  "language_info": {
   "codemirror_mode": {
    "name": "ipython",
    "version": 3
   },
   "file_extension": ".py",
   "mimetype": "text/x-python",
   "name": "python",
   "nbconvert_exporter": "python",
   "pygments_lexer": "ipython3",
   "version": "3.9.5"
  }
 },
 "nbformat": 4,
 "nbformat_minor": 5
}
